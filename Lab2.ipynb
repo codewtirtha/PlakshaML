{
  "nbformat": 4,
  "nbformat_minor": 0,
  "metadata": {
    "colab": {
      "provenance": []
    },
    "kernelspec": {
      "name": "python3",
      "display_name": "Python 3"
    },
    "language_info": {
      "name": "python"
    }
  },
  "cells": [
    {
      "cell_type": "markdown",
      "source": [
        "# Machine Learning Lab 1"
      ],
      "metadata": {
        "id": "IVNxn1z4PSCJ"
      }
    },
    {
      "cell_type": "markdown",
      "source": [
        "## Assignment 2 (Deadline : 4/12/2022 11:59PM)\n",
        "\n",
        "Total Points : 100\n",
        "\n",
        "Your answers must be entered in LMS by midnight of the day it is due. \n",
        "\n",
        "If the question requires a textual response, you can create a PDF and upload that. \n",
        "\n",
        "The PDF might be generated from MS-WORD, LATEX, the image of a hand- written response, or using any other mechanism. \n",
        "\n",
        "Code must be uploaded and may require demonstration to the TA. \n",
        "\n",
        "Numbers in the parentheses indicate points allocated to the question. \n",
        "\n",
        "**Naming Convention**: FirstName_LastName_Lab2_TLP23.ipynb"
      ],
      "metadata": {
        "id": "CMO2e5qhPWal"
      }
    },
    {
      "cell_type": "markdown",
      "source": [
        "# Question 1 (50 points)"
      ],
      "metadata": {
        "id": "aQ4ykPDrPgvv"
      }
    },
    {
      "cell_type": "markdown",
      "source": [
        "## 1. Read the data into a numpy array"
      ],
      "metadata": {
        "id": "c155js1XPnDT"
      }
    },
    {
      "cell_type": "code",
      "source": [
        "#packages"
      ],
      "metadata": {
        "id": "gZU-uXcBGWK4"
      },
      "execution_count": null,
      "outputs": []
    },
    {
      "cell_type": "code",
      "source": [
        "# Read data from file: 'data.csv'. \n",
        "# Note that the first row has the number of inputs and number of outputs specified.\n",
        "# For your reference: you can use \"np.loadtxt\".\n",
        "import pandas as pd\n",
        "import numpy as np\n",
        "from prettytable import PrettyTable\n",
        "import matplotlib.pyplot as plt\n",
        "from sklearn.metrics import mean_squared_error, mean_absolute_error\n",
        "import sklearn\n",
        "#from sklearn.cross_validation import train_test_split\n",
        "data =pd.read_csv('data.csv')\n",
        "data.reset_index(inplace=True)\n",
        "data.rename(columns={'index':'x1','2':'x2','1':'y'}, inplace = True)"
      ],
      "metadata": {
        "id": "pN9dXM6RPV4C"
      },
      "execution_count": 1,
      "outputs": []
    },
    {
      "cell_type": "markdown",
      "source": [
        "## 2. Plot and explore the data to get a better understanding"
      ],
      "metadata": {
        "id": "QXyPyRDIPvML"
      }
    },
    {
      "cell_type": "code",
      "execution_count": 2,
      "metadata": {
        "id": "UayaQqiuPDuL",
        "colab": {
          "base_uri": "https://localhost:8080/",
          "height": 206
        },
        "outputId": "2e33fb4f-0038-429b-b392-ba86a4dbc6de"
      },
      "outputs": [
        {
          "output_type": "execute_result",
          "data": {
            "text/plain": [
              "       x1     x2        y\n",
              "0   51.87  79.72  1249.99\n",
              "1  -30.66 -15.64  -516.61\n",
              "2  -57.57  94.22   312.09\n",
              "3 -122.10   5.15 -1544.90\n",
              "4  -53.45  41.87  -201.57"
            ],
            "text/html": [
              "\n",
              "  <div id=\"df-d2d4671c-a265-4b0e-8cab-a9151a72760a\">\n",
              "    <div class=\"colab-df-container\">\n",
              "      <div>\n",
              "<style scoped>\n",
              "    .dataframe tbody tr th:only-of-type {\n",
              "        vertical-align: middle;\n",
              "    }\n",
              "\n",
              "    .dataframe tbody tr th {\n",
              "        vertical-align: top;\n",
              "    }\n",
              "\n",
              "    .dataframe thead th {\n",
              "        text-align: right;\n",
              "    }\n",
              "</style>\n",
              "<table border=\"1\" class=\"dataframe\">\n",
              "  <thead>\n",
              "    <tr style=\"text-align: right;\">\n",
              "      <th></th>\n",
              "      <th>x1</th>\n",
              "      <th>x2</th>\n",
              "      <th>y</th>\n",
              "    </tr>\n",
              "  </thead>\n",
              "  <tbody>\n",
              "    <tr>\n",
              "      <th>0</th>\n",
              "      <td>51.87</td>\n",
              "      <td>79.72</td>\n",
              "      <td>1249.99</td>\n",
              "    </tr>\n",
              "    <tr>\n",
              "      <th>1</th>\n",
              "      <td>-30.66</td>\n",
              "      <td>-15.64</td>\n",
              "      <td>-516.61</td>\n",
              "    </tr>\n",
              "    <tr>\n",
              "      <th>2</th>\n",
              "      <td>-57.57</td>\n",
              "      <td>94.22</td>\n",
              "      <td>312.09</td>\n",
              "    </tr>\n",
              "    <tr>\n",
              "      <th>3</th>\n",
              "      <td>-122.10</td>\n",
              "      <td>5.15</td>\n",
              "      <td>-1544.90</td>\n",
              "    </tr>\n",
              "    <tr>\n",
              "      <th>4</th>\n",
              "      <td>-53.45</td>\n",
              "      <td>41.87</td>\n",
              "      <td>-201.57</td>\n",
              "    </tr>\n",
              "  </tbody>\n",
              "</table>\n",
              "</div>\n",
              "      <button class=\"colab-df-convert\" onclick=\"convertToInteractive('df-d2d4671c-a265-4b0e-8cab-a9151a72760a')\"\n",
              "              title=\"Convert this dataframe to an interactive table.\"\n",
              "              style=\"display:none;\">\n",
              "        \n",
              "  <svg xmlns=\"http://www.w3.org/2000/svg\" height=\"24px\"viewBox=\"0 0 24 24\"\n",
              "       width=\"24px\">\n",
              "    <path d=\"M0 0h24v24H0V0z\" fill=\"none\"/>\n",
              "    <path d=\"M18.56 5.44l.94 2.06.94-2.06 2.06-.94-2.06-.94-.94-2.06-.94 2.06-2.06.94zm-11 1L8.5 8.5l.94-2.06 2.06-.94-2.06-.94L8.5 2.5l-.94 2.06-2.06.94zm10 10l.94 2.06.94-2.06 2.06-.94-2.06-.94-.94-2.06-.94 2.06-2.06.94z\"/><path d=\"M17.41 7.96l-1.37-1.37c-.4-.4-.92-.59-1.43-.59-.52 0-1.04.2-1.43.59L10.3 9.45l-7.72 7.72c-.78.78-.78 2.05 0 2.83L4 21.41c.39.39.9.59 1.41.59.51 0 1.02-.2 1.41-.59l7.78-7.78 2.81-2.81c.8-.78.8-2.07 0-2.86zM5.41 20L4 18.59l7.72-7.72 1.47 1.35L5.41 20z\"/>\n",
              "  </svg>\n",
              "      </button>\n",
              "      \n",
              "  <style>\n",
              "    .colab-df-container {\n",
              "      display:flex;\n",
              "      flex-wrap:wrap;\n",
              "      gap: 12px;\n",
              "    }\n",
              "\n",
              "    .colab-df-convert {\n",
              "      background-color: #E8F0FE;\n",
              "      border: none;\n",
              "      border-radius: 50%;\n",
              "      cursor: pointer;\n",
              "      display: none;\n",
              "      fill: #1967D2;\n",
              "      height: 32px;\n",
              "      padding: 0 0 0 0;\n",
              "      width: 32px;\n",
              "    }\n",
              "\n",
              "    .colab-df-convert:hover {\n",
              "      background-color: #E2EBFA;\n",
              "      box-shadow: 0px 1px 2px rgba(60, 64, 67, 0.3), 0px 1px 3px 1px rgba(60, 64, 67, 0.15);\n",
              "      fill: #174EA6;\n",
              "    }\n",
              "\n",
              "    [theme=dark] .colab-df-convert {\n",
              "      background-color: #3B4455;\n",
              "      fill: #D2E3FC;\n",
              "    }\n",
              "\n",
              "    [theme=dark] .colab-df-convert:hover {\n",
              "      background-color: #434B5C;\n",
              "      box-shadow: 0px 1px 3px 1px rgba(0, 0, 0, 0.15);\n",
              "      filter: drop-shadow(0px 1px 2px rgba(0, 0, 0, 0.3));\n",
              "      fill: #FFFFFF;\n",
              "    }\n",
              "  </style>\n",
              "\n",
              "      <script>\n",
              "        const buttonEl =\n",
              "          document.querySelector('#df-d2d4671c-a265-4b0e-8cab-a9151a72760a button.colab-df-convert');\n",
              "        buttonEl.style.display =\n",
              "          google.colab.kernel.accessAllowed ? 'block' : 'none';\n",
              "\n",
              "        async function convertToInteractive(key) {\n",
              "          const element = document.querySelector('#df-d2d4671c-a265-4b0e-8cab-a9151a72760a');\n",
              "          const dataTable =\n",
              "            await google.colab.kernel.invokeFunction('convertToInteractive',\n",
              "                                                     [key], {});\n",
              "          if (!dataTable) return;\n",
              "\n",
              "          const docLinkHtml = 'Like what you see? Visit the ' +\n",
              "            '<a target=\"_blank\" href=https://colab.research.google.com/notebooks/data_table.ipynb>data table notebook</a>'\n",
              "            + ' to learn more about interactive tables.';\n",
              "          element.innerHTML = '';\n",
              "          dataTable['output_type'] = 'display_data';\n",
              "          await google.colab.output.renderOutput(dataTable, element);\n",
              "          const docLink = document.createElement('div');\n",
              "          docLink.innerHTML = docLinkHtml;\n",
              "          element.appendChild(docLink);\n",
              "        }\n",
              "      </script>\n",
              "    </div>\n",
              "  </div>\n",
              "  "
            ]
          },
          "metadata": {},
          "execution_count": 2
        }
      ],
      "source": [
        "# EDA\n",
        "data.head()"
      ]
    },
    {
      "cell_type": "code",
      "source": [
        "data.info()"
      ],
      "metadata": {
        "colab": {
          "base_uri": "https://localhost:8080/"
        },
        "id": "9NqPTu7K4-Ci",
        "outputId": "97560b80-0e74-4525-db0f-ed83889e2e78"
      },
      "execution_count": 3,
      "outputs": [
        {
          "output_type": "stream",
          "name": "stdout",
          "text": [
            "<class 'pandas.core.frame.DataFrame'>\n",
            "RangeIndex: 3000 entries, 0 to 2999\n",
            "Data columns (total 3 columns):\n",
            " #   Column  Non-Null Count  Dtype  \n",
            "---  ------  --------------  -----  \n",
            " 0   x1      3000 non-null   float64\n",
            " 1   x2      3000 non-null   float64\n",
            " 2   y       3000 non-null   float64\n",
            "dtypes: float64(3)\n",
            "memory usage: 70.4 KB\n"
          ]
        }
      ]
    },
    {
      "cell_type": "code",
      "source": [
        "data.describe()"
      ],
      "metadata": {
        "colab": {
          "base_uri": "https://localhost:8080/",
          "height": 300
        },
        "id": "ycQRpgGc4_tJ",
        "outputId": "89b99eb6-db01-41a7-c412-8e2ae401e136"
      },
      "execution_count": 4,
      "outputs": [
        {
          "output_type": "execute_result",
          "data": {
            "text/plain": [
              "                x1          x2            y\n",
              "count  3000.000000  3000.00000  3000.000000\n",
              "mean    -18.483293    31.24422   -11.450140\n",
              "std      34.398479    42.99015   662.873355\n",
              "min    -140.710000  -132.18000 -2325.790000\n",
              "25%     -40.392500     3.38250  -446.140000\n",
              "50%     -18.485000    31.34500   -17.680000\n",
              "75%       4.125000    60.59000   429.782500\n",
              "max      93.930000   189.99000  2198.490000"
            ],
            "text/html": [
              "\n",
              "  <div id=\"df-baefc162-3f6a-47d1-bee2-1a6fa3947c21\">\n",
              "    <div class=\"colab-df-container\">\n",
              "      <div>\n",
              "<style scoped>\n",
              "    .dataframe tbody tr th:only-of-type {\n",
              "        vertical-align: middle;\n",
              "    }\n",
              "\n",
              "    .dataframe tbody tr th {\n",
              "        vertical-align: top;\n",
              "    }\n",
              "\n",
              "    .dataframe thead th {\n",
              "        text-align: right;\n",
              "    }\n",
              "</style>\n",
              "<table border=\"1\" class=\"dataframe\">\n",
              "  <thead>\n",
              "    <tr style=\"text-align: right;\">\n",
              "      <th></th>\n",
              "      <th>x1</th>\n",
              "      <th>x2</th>\n",
              "      <th>y</th>\n",
              "    </tr>\n",
              "  </thead>\n",
              "  <tbody>\n",
              "    <tr>\n",
              "      <th>count</th>\n",
              "      <td>3000.000000</td>\n",
              "      <td>3000.00000</td>\n",
              "      <td>3000.000000</td>\n",
              "    </tr>\n",
              "    <tr>\n",
              "      <th>mean</th>\n",
              "      <td>-18.483293</td>\n",
              "      <td>31.24422</td>\n",
              "      <td>-11.450140</td>\n",
              "    </tr>\n",
              "    <tr>\n",
              "      <th>std</th>\n",
              "      <td>34.398479</td>\n",
              "      <td>42.99015</td>\n",
              "      <td>662.873355</td>\n",
              "    </tr>\n",
              "    <tr>\n",
              "      <th>min</th>\n",
              "      <td>-140.710000</td>\n",
              "      <td>-132.18000</td>\n",
              "      <td>-2325.790000</td>\n",
              "    </tr>\n",
              "    <tr>\n",
              "      <th>25%</th>\n",
              "      <td>-40.392500</td>\n",
              "      <td>3.38250</td>\n",
              "      <td>-446.140000</td>\n",
              "    </tr>\n",
              "    <tr>\n",
              "      <th>50%</th>\n",
              "      <td>-18.485000</td>\n",
              "      <td>31.34500</td>\n",
              "      <td>-17.680000</td>\n",
              "    </tr>\n",
              "    <tr>\n",
              "      <th>75%</th>\n",
              "      <td>4.125000</td>\n",
              "      <td>60.59000</td>\n",
              "      <td>429.782500</td>\n",
              "    </tr>\n",
              "    <tr>\n",
              "      <th>max</th>\n",
              "      <td>93.930000</td>\n",
              "      <td>189.99000</td>\n",
              "      <td>2198.490000</td>\n",
              "    </tr>\n",
              "  </tbody>\n",
              "</table>\n",
              "</div>\n",
              "      <button class=\"colab-df-convert\" onclick=\"convertToInteractive('df-baefc162-3f6a-47d1-bee2-1a6fa3947c21')\"\n",
              "              title=\"Convert this dataframe to an interactive table.\"\n",
              "              style=\"display:none;\">\n",
              "        \n",
              "  <svg xmlns=\"http://www.w3.org/2000/svg\" height=\"24px\"viewBox=\"0 0 24 24\"\n",
              "       width=\"24px\">\n",
              "    <path d=\"M0 0h24v24H0V0z\" fill=\"none\"/>\n",
              "    <path d=\"M18.56 5.44l.94 2.06.94-2.06 2.06-.94-2.06-.94-.94-2.06-.94 2.06-2.06.94zm-11 1L8.5 8.5l.94-2.06 2.06-.94-2.06-.94L8.5 2.5l-.94 2.06-2.06.94zm10 10l.94 2.06.94-2.06 2.06-.94-2.06-.94-.94-2.06-.94 2.06-2.06.94z\"/><path d=\"M17.41 7.96l-1.37-1.37c-.4-.4-.92-.59-1.43-.59-.52 0-1.04.2-1.43.59L10.3 9.45l-7.72 7.72c-.78.78-.78 2.05 0 2.83L4 21.41c.39.39.9.59 1.41.59.51 0 1.02-.2 1.41-.59l7.78-7.78 2.81-2.81c.8-.78.8-2.07 0-2.86zM5.41 20L4 18.59l7.72-7.72 1.47 1.35L5.41 20z\"/>\n",
              "  </svg>\n",
              "      </button>\n",
              "      \n",
              "  <style>\n",
              "    .colab-df-container {\n",
              "      display:flex;\n",
              "      flex-wrap:wrap;\n",
              "      gap: 12px;\n",
              "    }\n",
              "\n",
              "    .colab-df-convert {\n",
              "      background-color: #E8F0FE;\n",
              "      border: none;\n",
              "      border-radius: 50%;\n",
              "      cursor: pointer;\n",
              "      display: none;\n",
              "      fill: #1967D2;\n",
              "      height: 32px;\n",
              "      padding: 0 0 0 0;\n",
              "      width: 32px;\n",
              "    }\n",
              "\n",
              "    .colab-df-convert:hover {\n",
              "      background-color: #E2EBFA;\n",
              "      box-shadow: 0px 1px 2px rgba(60, 64, 67, 0.3), 0px 1px 3px 1px rgba(60, 64, 67, 0.15);\n",
              "      fill: #174EA6;\n",
              "    }\n",
              "\n",
              "    [theme=dark] .colab-df-convert {\n",
              "      background-color: #3B4455;\n",
              "      fill: #D2E3FC;\n",
              "    }\n",
              "\n",
              "    [theme=dark] .colab-df-convert:hover {\n",
              "      background-color: #434B5C;\n",
              "      box-shadow: 0px 1px 3px 1px rgba(0, 0, 0, 0.15);\n",
              "      filter: drop-shadow(0px 1px 2px rgba(0, 0, 0, 0.3));\n",
              "      fill: #FFFFFF;\n",
              "    }\n",
              "  </style>\n",
              "\n",
              "      <script>\n",
              "        const buttonEl =\n",
              "          document.querySelector('#df-baefc162-3f6a-47d1-bee2-1a6fa3947c21 button.colab-df-convert');\n",
              "        buttonEl.style.display =\n",
              "          google.colab.kernel.accessAllowed ? 'block' : 'none';\n",
              "\n",
              "        async function convertToInteractive(key) {\n",
              "          const element = document.querySelector('#df-baefc162-3f6a-47d1-bee2-1a6fa3947c21');\n",
              "          const dataTable =\n",
              "            await google.colab.kernel.invokeFunction('convertToInteractive',\n",
              "                                                     [key], {});\n",
              "          if (!dataTable) return;\n",
              "\n",
              "          const docLinkHtml = 'Like what you see? Visit the ' +\n",
              "            '<a target=\"_blank\" href=https://colab.research.google.com/notebooks/data_table.ipynb>data table notebook</a>'\n",
              "            + ' to learn more about interactive tables.';\n",
              "          element.innerHTML = '';\n",
              "          dataTable['output_type'] = 'display_data';\n",
              "          await google.colab.output.renderOutput(dataTable, element);\n",
              "          const docLink = document.createElement('div');\n",
              "          docLink.innerHTML = docLinkHtml;\n",
              "          element.appendChild(docLink);\n",
              "        }\n",
              "      </script>\n",
              "    </div>\n",
              "  </div>\n",
              "  "
            ]
          },
          "metadata": {},
          "execution_count": 4
        }
      ]
    },
    {
      "cell_type": "code",
      "source": [
        "data['x1']"
      ],
      "metadata": {
        "colab": {
          "base_uri": "https://localhost:8080/"
        },
        "id": "PofXZsLG5BP6",
        "outputId": "385d21a2-bdef-4641-d8f6-a30dbd4465f6"
      },
      "execution_count": 5,
      "outputs": [
        {
          "output_type": "execute_result",
          "data": {
            "text/plain": [
              "0        51.87\n",
              "1       -30.66\n",
              "2       -57.57\n",
              "3      -122.10\n",
              "4       -53.45\n",
              "         ...  \n",
              "2995     24.70\n",
              "2996     31.81\n",
              "2997    -18.60\n",
              "2998    -38.31\n",
              "2999    -38.33\n",
              "Name: x1, Length: 3000, dtype: float64"
            ]
          },
          "metadata": {},
          "execution_count": 5
        }
      ]
    },
    {
      "cell_type": "code",
      "source": [
        "data.plot('x1','y',kind = 'scatter')"
      ],
      "metadata": {
        "colab": {
          "base_uri": "https://localhost:8080/",
          "height": 297
        },
        "id": "Ucb4VG2D5Din",
        "outputId": "9830e896-705f-4f19-fd66-aac6c3d149d6"
      },
      "execution_count": 6,
      "outputs": [
        {
          "output_type": "execute_result",
          "data": {
            "text/plain": [
              "<matplotlib.axes._subplots.AxesSubplot at 0x7fe4dc87d130>"
            ]
          },
          "metadata": {},
          "execution_count": 6
        },
        {
          "output_type": "display_data",
          "data": {
            "text/plain": [
              "<Figure size 432x288 with 1 Axes>"
            ],
            "image/png": "[encoded data removed]"
          },
          "metadata": {
            "needs_background": "light"
          }
        }
      ]
    },
    {
      "cell_type": "code",
      "source": [
        "data.hist(bins=25)\n",
        "plt.show()"
      ],
      "metadata": {
        "colab": {
          "base_uri": "https://localhost:8080/",
          "height": 281
        },
        "id": "9P_aPrPJ5Fog",
        "outputId": "e97a235d-e661-4f44-a7f3-fc1ce6a90a94"
      },
      "execution_count": 7,
      "outputs": [
        {
          "output_type": "display_data",
          "data": {
            "text/plain": [
              "<Figure size 432x288 with 4 Axes>"
            ],
            "image/png": "[encoded data removed]"
          },
          "metadata": {
            "needs_background": "light"
          }
        }
      ]
    },
    {
      "cell_type": "markdown",
      "source": [
        "## 3. Prepare the data for modelling"
      ],
      "metadata": {
        "id": "WYhxih7jP304"
      }
    },
    {
      "cell_type": "code",
      "source": [
        "# Separate the data: input and output.\n",
        "X = data[['x1','x2']]\n",
        "y = data['y']\n",
        "\n",
        "#adding weights column w0\n",
        "\n",
        "trainS = X.shape[0]\n",
        "const = pd.DataFrame(np.ones(trainS))\n",
        "X = pd.concat([const,X], axis = 'columns')"
      ],
      "metadata": {
        "id": "3UqrKgDBP9Jk"
      },
      "execution_count": 8,
      "outputs": []
    },
    {
      "cell_type": "code",
      "source": [
        "X"
      ],
      "metadata": {
        "colab": {
          "base_uri": "https://localhost:8080/",
          "height": 424
        },
        "id": "8gwJS4hh5MOh",
        "outputId": "4ed57c78-6235-44d1-cdf7-23f383b4987b"
      },
      "execution_count": 9,
      "outputs": [
        {
          "output_type": "execute_result",
          "data": {
            "text/plain": [
              "        0      x1      x2\n",
              "0     1.0   51.87   79.72\n",
              "1     1.0  -30.66  -15.64\n",
              "2     1.0  -57.57   94.22\n",
              "3     1.0 -122.10    5.15\n",
              "4     1.0  -53.45   41.87\n",
              "...   ...     ...     ...\n",
              "2995  1.0   24.70  189.14\n",
              "2996  1.0   31.81  -25.28\n",
              "2997  1.0  -18.60   32.61\n",
              "2998  1.0  -38.31   77.81\n",
              "2999  1.0  -38.33   45.69\n",
              "\n",
              "[3000 rows x 3 columns]"
            ],
            "text/html": [
              "\n",
              "  <div id=\"df-e68e1064-0ef0-4d0e-b918-20573114f791\">\n",
              "    <div class=\"colab-df-container\">\n",
              "      <div>\n",
              "<style scoped>\n",
              "    .dataframe tbody tr th:only-of-type {\n",
              "        vertical-align: middle;\n",
              "    }\n",
              "\n",
              "    .dataframe tbody tr th {\n",
              "        vertical-align: top;\n",
              "    }\n",
              "\n",
              "    .dataframe thead th {\n",
              "        text-align: right;\n",
              "    }\n",
              "</style>\n",
              "<table border=\"1\" class=\"dataframe\">\n",
              "  <thead>\n",
              "    <tr style=\"text-align: right;\">\n",
              "      <th></th>\n",
              "      <th>0</th>\n",
              "      <th>x1</th>\n",
              "      <th>x2</th>\n",
              "    </tr>\n",
              "  </thead>\n",
              "  <tbody>\n",
              "    <tr>\n",
              "      <th>0</th>\n",
              "      <td>1.0</td>\n",
              "      <td>51.87</td>\n",
              "      <td>79.72</td>\n",
              "    </tr>\n",
              "    <tr>\n",
              "      <th>1</th>\n",
              "      <td>1.0</td>\n",
              "      <td>-30.66</td>\n",
              "      <td>-15.64</td>\n",
              "    </tr>\n",
              "    <tr>\n",
              "      <th>2</th>\n",
              "      <td>1.0</td>\n",
              "      <td>-57.57</td>\n",
              "      <td>94.22</td>\n",
              "    </tr>\n",
              "    <tr>\n",
              "      <th>3</th>\n",
              "      <td>1.0</td>\n",
              "      <td>-122.10</td>\n",
              "      <td>5.15</td>\n",
              "    </tr>\n",
              "    <tr>\n",
              "      <th>4</th>\n",
              "      <td>1.0</td>\n",
              "      <td>-53.45</td>\n",
              "      <td>41.87</td>\n",
              "    </tr>\n",
              "    <tr>\n",
              "      <th>...</th>\n",
              "      <td>...</td>\n",
              "      <td>...</td>\n",
              "      <td>...</td>\n",
              "    </tr>\n",
              "    <tr>\n",
              "      <th>2995</th>\n",
              "      <td>1.0</td>\n",
              "      <td>24.70</td>\n",
              "      <td>189.14</td>\n",
              "    </tr>\n",
              "    <tr>\n",
              "      <th>2996</th>\n",
              "      <td>1.0</td>\n",
              "      <td>31.81</td>\n",
              "      <td>-25.28</td>\n",
              "    </tr>\n",
              "    <tr>\n",
              "      <th>2997</th>\n",
              "      <td>1.0</td>\n",
              "      <td>-18.60</td>\n",
              "      <td>32.61</td>\n",
              "    </tr>\n",
              "    <tr>\n",
              "      <th>2998</th>\n",
              "      <td>1.0</td>\n",
              "      <td>-38.31</td>\n",
              "      <td>77.81</td>\n",
              "    </tr>\n",
              "    <tr>\n",
              "      <th>2999</th>\n",
              "      <td>1.0</td>\n",
              "      <td>-38.33</td>\n",
              "      <td>45.69</td>\n",
              "    </tr>\n",
              "  </tbody>\n",
              "</table>\n",
              "<p>3000 rows × 3 columns</p>\n",
              "</div>\n",
              "      <button class=\"colab-df-convert\" onclick=\"convertToInteractive('df-e68e1064-0ef0-4d0e-b918-20573114f791')\"\n",
              "              title=\"Convert this dataframe to an interactive table.\"\n",
              "              style=\"display:none;\">\n",
              "        \n",
              "  <svg xmlns=\"http://www.w3.org/2000/svg\" height=\"24px\"viewBox=\"0 0 24 24\"\n",
              "       width=\"24px\">\n",
              "    <path d=\"M0 0h24v24H0V0z\" fill=\"none\"/>\n",
              "    <path d=\"M18.56 5.44l.94 2.06.94-2.06 2.06-.94-2.06-.94-.94-2.06-.94 2.06-2.06.94zm-11 1L8.5 8.5l.94-2.06 2.06-.94-2.06-.94L8.5 2.5l-.94 2.06-2.06.94zm10 10l.94 2.06.94-2.06 2.06-.94-2.06-.94-.94-2.06-.94 2.06-2.06.94z\"/><path d=\"M17.41 7.96l-1.37-1.37c-.4-.4-.92-.59-1.43-.59-.52 0-1.04.2-1.43.59L10.3 9.45l-7.72 7.72c-.78.78-.78 2.05 0 2.83L4 21.41c.39.39.9.59 1.41.59.51 0 1.02-.2 1.41-.59l7.78-7.78 2.81-2.81c.8-.78.8-2.07 0-2.86zM5.41 20L4 18.59l7.72-7.72 1.47 1.35L5.41 20z\"/>\n",
              "  </svg>\n",
              "      </button>\n",
              "      \n",
              "  <style>\n",
              "    .colab-df-container {\n",
              "      display:flex;\n",
              "      flex-wrap:wrap;\n",
              "      gap: 12px;\n",
              "    }\n",
              "\n",
              "    .colab-df-convert {\n",
              "      background-color: #E8F0FE;\n",
              "      border: none;\n",
              "      border-radius: 50%;\n",
              "      cursor: pointer;\n",
              "      display: none;\n",
              "      fill: #1967D2;\n",
              "      height: 32px;\n",
              "      padding: 0 0 0 0;\n",
              "      width: 32px;\n",
              "    }\n",
              "\n",
              "    .colab-df-convert:hover {\n",
              "      background-color: #E2EBFA;\n",
              "      box-shadow: 0px 1px 2px rgba(60, 64, 67, 0.3), 0px 1px 3px 1px rgba(60, 64, 67, 0.15);\n",
              "      fill: #174EA6;\n",
              "    }\n",
              "\n",
              "    [theme=dark] .colab-df-convert {\n",
              "      background-color: #3B4455;\n",
              "      fill: #D2E3FC;\n",
              "    }\n",
              "\n",
              "    [theme=dark] .colab-df-convert:hover {\n",
              "      background-color: #434B5C;\n",
              "      box-shadow: 0px 1px 3px 1px rgba(0, 0, 0, 0.15);\n",
              "      filter: drop-shadow(0px 1px 2px rgba(0, 0, 0, 0.3));\n",
              "      fill: #FFFFFF;\n",
              "    }\n",
              "  </style>\n",
              "\n",
              "      <script>\n",
              "        const buttonEl =\n",
              "          document.querySelector('#df-e68e1064-0ef0-4d0e-b918-20573114f791 button.colab-df-convert');\n",
              "        buttonEl.style.display =\n",
              "          google.colab.kernel.accessAllowed ? 'block' : 'none';\n",
              "\n",
              "        async function convertToInteractive(key) {\n",
              "          const element = document.querySelector('#df-e68e1064-0ef0-4d0e-b918-20573114f791');\n",
              "          const dataTable =\n",
              "            await google.colab.kernel.invokeFunction('convertToInteractive',\n",
              "                                                     [key], {});\n",
              "          if (!dataTable) return;\n",
              "\n",
              "          const docLinkHtml = 'Like what you see? Visit the ' +\n",
              "            '<a target=\"_blank\" href=https://colab.research.google.com/notebooks/data_table.ipynb>data table notebook</a>'\n",
              "            + ' to learn more about interactive tables.';\n",
              "          element.innerHTML = '';\n",
              "          dataTable['output_type'] = 'display_data';\n",
              "          await google.colab.output.renderOutput(dataTable, element);\n",
              "          const docLink = document.createElement('div');\n",
              "          docLink.innerHTML = docLinkHtml;\n",
              "          element.appendChild(docLink);\n",
              "        }\n",
              "      </script>\n",
              "    </div>\n",
              "  </div>\n",
              "  "
            ]
          },
          "metadata": {},
          "execution_count": 9
        }
      ]
    },
    {
      "cell_type": "code",
      "source": [
        "data.corr()['y']"
      ],
      "metadata": {
        "colab": {
          "base_uri": "https://localhost:8080/"
        },
        "id": "d7LY_w_j5OAa",
        "outputId": "5e344b30-073a-465f-9a6d-6e17eb0d3125"
      },
      "execution_count": 10,
      "outputs": [
        {
          "output_type": "execute_result",
          "data": {
            "text/plain": [
              "x1    0.890029\n",
              "x2    0.786392\n",
              "y     1.000000\n",
              "Name: y, dtype: float64"
            ]
          },
          "metadata": {},
          "execution_count": 10
        }
      ]
    },
    {
      "cell_type": "code",
      "source": [
        "# Perform a train-val-test split of 60-20-20.\n",
        "# Use \"random_state=42\".\n",
        "# For your reference: you can use \"train_test_split\" from sklearn twice to perform this. \n",
        "\n",
        "from sklearn.model_selection import train_test_split\n",
        "\n",
        "X_split, X_test, y_split, y_test = train_test_split(X, y, test_size=0.20, random_state=42)\n",
        "X_train, X_val, y_train, y_val = train_test_split(X_split, y_split, test_size=0.25, random_state=42)"
      ],
      "metadata": {
        "id": "FQ4fHTVWQJ0x"
      },
      "execution_count": 11,
      "outputs": []
    },
    {
      "cell_type": "markdown",
      "source": [
        " * From your understanding of the dataset, is stratified sampling necessary in this case? Why / Why not?\n"
      ],
      "metadata": {
        "id": "43fNP30lQUzq"
      }
    },
    {
      "cell_type": "markdown",
      "source": [
        "##### Stratified sampling in not necessary in this case. From the correlation of the features with the output, we observe that both the features are closely related to the output and we cannot distinctly divide the output based on one single feature or none of the features affect the output more significantly than the other."
      ],
      "metadata": {
        "id": "-h5LYtWn5bEo"
      }
    },
    {
      "cell_type": "markdown",
      "source": [
        "## 4. Modelling"
      ],
      "metadata": {
        "id": "zvNv-X4aQdwK"
      }
    },
    {
      "cell_type": "markdown",
      "source": [
        "### 4.1 Linear Regression"
      ],
      "metadata": {
        "id": "lDaep4fIQhcq"
      }
    },
    {
      "cell_type": "code",
      "source": [
        "# Implement Linear Regression.\n",
        "# Use both train and val data for training purpose.\n",
        "# Make preditions on both training(train+val) and test data.\n",
        "from sklearn.linear_model import LinearRegression\n",
        "\n",
        "lm = LinearRegression().fit(X_split, y_split)\n",
        "train_prediction = lm.predict(X_split)\n",
        "test_prediction = lm.predict(X_test)\n",
        "train_score = lm.score(X_split, y_split)\n",
        "test_score = lm.score(X_test, y_test)\n",
        "test_score"
      ],
      "metadata": {
        "id": "_zweZ855QXUV",
        "colab": {
          "base_uri": "https://localhost:8080/"
        },
        "outputId": "6d114f18-d2e3-4428-fc46-a2d666a51dde"
      },
      "execution_count": 12,
      "outputs": [
        {
          "output_type": "stream",
          "name": "stderr",
          "text": [
            "/usr/local/lib/python3.8/dist-packages/sklearn/utils/validation.py:1688: FutureWarning: Feature names only support names that are all strings. Got feature names with dtypes: ['int', 'str']. An error will be raised in 1.2.\n",
            "  warnings.warn(\n",
            "/usr/local/lib/python3.8/dist-packages/sklearn/utils/validation.py:1688: FutureWarning: Feature names only support names that are all strings. Got feature names with dtypes: ['int', 'str']. An error will be raised in 1.2.\n",
            "  warnings.warn(\n",
            "/usr/local/lib/python3.8/dist-packages/sklearn/utils/validation.py:1688: FutureWarning: Feature names only support names that are all strings. Got feature names with dtypes: ['int', 'str']. An error will be raised in 1.2.\n",
            "  warnings.warn(\n",
            "/usr/local/lib/python3.8/dist-packages/sklearn/utils/validation.py:1688: FutureWarning: Feature names only support names that are all strings. Got feature names with dtypes: ['int', 'str']. An error will be raised in 1.2.\n",
            "  warnings.warn(\n",
            "/usr/local/lib/python3.8/dist-packages/sklearn/utils/validation.py:1688: FutureWarning: Feature names only support names that are all strings. Got feature names with dtypes: ['int', 'str']. An error will be raised in 1.2.\n",
            "  warnings.warn(\n"
          ]
        },
        {
          "output_type": "execute_result",
          "data": {
            "text/plain": [
              "0.951393653409172"
            ]
          },
          "metadata": {},
          "execution_count": 12
        }
      ]
    },
    {
      "cell_type": "markdown",
      "source": [
        "### 4.2 Ridge Reegression"
      ],
      "metadata": {
        "id": "cYHke4e6Qn2w"
      }
    },
    {
      "cell_type": "code",
      "source": [
        "# Implement Ridge Regression.\n",
        "# Perform cross validation to find a good value for your hyper-parameter.\n",
        "# After choosing a good value for your hyper-parameter, use both train and val data for final training purpose of your model.\n",
        "# Make preditions on both training(train+val) and test data.\n",
        "from sklearn.linear_model import Ridge, RidgeCV\n",
        "\n",
        "alphas = np.linspace(0.1, 500, 1000)\n",
        "ridge = RidgeCV(alphas=alphas).fit(X_split, y_split)\n",
        "train_score = ridge.score(X_val, y_val)\n",
        "train_ridge_prediction = ridge.predict(X_split)\n",
        "test_ridge_prediction = ridge.predict(X_test)\n",
        "print(ridge.alpha_)\n",
        "ridge.coef_"
      ],
      "metadata": {
        "id": "_JVqRAVSQrM2",
        "colab": {
          "base_uri": "https://localhost:8080/"
        },
        "outputId": "f988f93f-8575-4294-fce3-69d10714a008"
      },
      "execution_count": 13,
      "outputs": [
        {
          "output_type": "stream",
          "name": "stderr",
          "text": [
            "/usr/local/lib/python3.8/dist-packages/sklearn/utils/validation.py:1688: FutureWarning: Feature names only support names that are all strings. Got feature names with dtypes: ['int', 'str']. An error will be raised in 1.2.\n",
            "  warnings.warn(\n"
          ]
        },
        {
          "output_type": "stream",
          "name": "stdout",
          "text": [
            "344.87587587587586\n"
          ]
        },
        {
          "output_type": "stream",
          "name": "stderr",
          "text": [
            "/usr/local/lib/python3.8/dist-packages/sklearn/utils/validation.py:1688: FutureWarning: Feature names only support names that are all strings. Got feature names with dtypes: ['int', 'str']. An error will be raised in 1.2.\n",
            "  warnings.warn(\n",
            "/usr/local/lib/python3.8/dist-packages/sklearn/utils/validation.py:1688: FutureWarning: Feature names only support names that are all strings. Got feature names with dtypes: ['int', 'str']. An error will be raised in 1.2.\n",
            "  warnings.warn(\n",
            "/usr/local/lib/python3.8/dist-packages/sklearn/utils/validation.py:1688: FutureWarning: Feature names only support names that are all strings. Got feature names with dtypes: ['int', 'str']. An error will be raised in 1.2.\n",
            "  warnings.warn(\n"
          ]
        },
        {
          "output_type": "execute_result",
          "data": {
            "text/plain": [
              "array([ 0.        , 12.72506727,  7.08385895])"
            ]
          },
          "metadata": {},
          "execution_count": 13
        }
      ]
    },
    {
      "cell_type": "markdown",
      "source": [
        "### 4.3 Lasso Regression"
      ],
      "metadata": {
        "id": "TKaw6g3zQvUf"
      }
    },
    {
      "cell_type": "code",
      "source": [
        "# Implement Lasso Regression.\n",
        "# Perform cross validation to find a good value for your hyper-parameter.\n",
        "# After choosing a good value for your hyper-parameter, use both train and val data for final training purpose of your model.\n",
        "# Make preditions on both training(train+val) and test data.\n",
        "from sklearn.linear_model import Lasso, LassoCV\n",
        "\n",
        "alphas = np.linspace(0.001, 1000,10000)\n",
        "lasso = LassoCV(alphas=alphas).fit(X_split, np.array(y_split))\n",
        "train_score = ridge.score(X_split, y_split)\n",
        "train_lasso_prediction = lasso.predict(X_split)\n",
        "test_lasso_prediction = lasso.predict(X_test)\n",
        "print(lasso.alpha_)\n",
        "lasso.coef_"
      ],
      "metadata": {
        "id": "2RuAcem_Qyta",
        "colab": {
          "base_uri": "https://localhost:8080/"
        },
        "outputId": "54d41e3b-2389-4fcd-e068-b78a1f20a839"
      },
      "execution_count": 14,
      "outputs": [
        {
          "output_type": "stream",
          "name": "stderr",
          "text": [
            "/usr/local/lib/python3.8/dist-packages/sklearn/utils/validation.py:1688: FutureWarning: Feature names only support names that are all strings. Got feature names with dtypes: ['int', 'str']. An error will be raised in 1.2.\n",
            "  warnings.warn(\n"
          ]
        },
        {
          "output_type": "stream",
          "name": "stdout",
          "text": [
            "0.6010594059405941\n"
          ]
        },
        {
          "output_type": "stream",
          "name": "stderr",
          "text": [
            "/usr/local/lib/python3.8/dist-packages/sklearn/utils/validation.py:1688: FutureWarning: Feature names only support names that are all strings. Got feature names with dtypes: ['int', 'str']. An error will be raised in 1.2.\n",
            "  warnings.warn(\n",
            "/usr/local/lib/python3.8/dist-packages/sklearn/utils/validation.py:1688: FutureWarning: Feature names only support names that are all strings. Got feature names with dtypes: ['int', 'str']. An error will be raised in 1.2.\n",
            "  warnings.warn(\n",
            "/usr/local/lib/python3.8/dist-packages/sklearn/utils/validation.py:1688: FutureWarning: Feature names only support names that are all strings. Got feature names with dtypes: ['int', 'str']. An error will be raised in 1.2.\n",
            "  warnings.warn(\n"
          ]
        },
        {
          "output_type": "execute_result",
          "data": {
            "text/plain": [
              "array([ 0.        , 12.72658615,  7.08348079])"
            ]
          },
          "metadata": {},
          "execution_count": 14
        }
      ]
    },
    {
      "cell_type": "markdown",
      "source": [
        "### 4.4 ElasticNet Regression"
      ],
      "metadata": {
        "id": "oBgZa2jcQ6a3"
      }
    },
    {
      "cell_type": "code",
      "source": [
        "# Implement ElasticNet Regression.\n",
        "# Perform cross validation to find a good value for your hyper-parameters.\n",
        "# After choosing a good value for your hyper-parameter, use both train and val data for final training purpose of your model.\n",
        "# Make preditions on both training(train+val) and test data.\n",
        "\n",
        "from sklearn.linear_model import ElasticNetCV\n",
        "\n",
        "alphas = np.linspace(0.001, 100,1000)\n",
        "l1_ratios = np.linspace(0.01, 1,10)\n",
        "cv_model = ElasticNetCV(l1_ratio=l1_ratios, alphas=alphas)\n",
        "cv_model.fit(X_split, y_split)\n",
        "train_elasticNetCV_prediction = cv_model.predict(X_split)\n",
        "test_elasticNetCV_prediction = cv_model.predict(X_test)\n",
        "print('Optimal alpha: %.8f'%cv_model.alpha_)\n",
        "print('Optimal l1_ratio: %.3f'%cv_model.l1_ratio_)\n",
        "print('Number of iterations %d'%cv_model.n_iter_)"
      ],
      "metadata": {
        "id": "xSUtXn8WQ0l1",
        "colab": {
          "base_uri": "https://localhost:8080/"
        },
        "outputId": "a724b3ad-072f-4178-b108-0b009e546a80"
      },
      "execution_count": 15,
      "outputs": [
        {
          "output_type": "stream",
          "name": "stderr",
          "text": [
            "/usr/local/lib/python3.8/dist-packages/sklearn/utils/validation.py:1688: FutureWarning: Feature names only support names that are all strings. Got feature names with dtypes: ['int', 'str']. An error will be raised in 1.2.\n",
            "  warnings.warn(\n"
          ]
        },
        {
          "output_type": "stream",
          "name": "stdout",
          "text": [
            "Optimal alpha: 0.60159459\n",
            "Optimal l1_ratio: 1.000\n",
            "Number of iterations 8\n"
          ]
        },
        {
          "output_type": "stream",
          "name": "stderr",
          "text": [
            "/usr/local/lib/python3.8/dist-packages/sklearn/utils/validation.py:1688: FutureWarning: Feature names only support names that are all strings. Got feature names with dtypes: ['int', 'str']. An error will be raised in 1.2.\n",
            "  warnings.warn(\n",
            "/usr/local/lib/python3.8/dist-packages/sklearn/utils/validation.py:1688: FutureWarning: Feature names only support names that are all strings. Got feature names with dtypes: ['int', 'str']. An error will be raised in 1.2.\n",
            "  warnings.warn(\n"
          ]
        }
      ]
    },
    {
      "cell_type": "markdown",
      "source": [
        "## 5. Analysis"
      ],
      "metadata": {
        "id": "oRiHfBFAROWi"
      }
    },
    {
      "cell_type": "code",
      "source": [
        "# Write down the actual value along with the preditions from all the regression models, for the first 10 points in test data.\n",
        "# single table\n",
        "analysis = pd.DataFrame()\n",
        "analysis['Test Output'] = y_test\n",
        "analysis['LinearRegression Output'] = test_prediction\n",
        "analysis['Ridge Output'] = test_ridge_prediction\n",
        "analysis['Lasso Output'] = test_lasso_prediction\n",
        "analysis['Elastic reg out'] = test_elasticNetCV_prediction\n",
        "analysis.head(10)"
      ],
      "metadata": {
        "id": "I6Go-40ARQW7",
        "colab": {
          "base_uri": "https://localhost:8080/",
          "height": 363
        },
        "outputId": "2649292d-7830-4c17-9c87-ff85563e2cab"
      },
      "execution_count": 16,
      "outputs": [
        {
          "output_type": "execute_result",
          "data": {
            "text/plain": [
              "      Test Output  LinearRegression Output  Ridge Output  Lasso Output  \\\n",
              "1801        66.12                61.235630     61.233656     61.233406   \n",
              "1190      -572.89              -576.474002   -576.481071   -576.452311   \n",
              "1817       -94.71              -112.489283   -112.494007   -112.484719   \n",
              "251       -306.84              -413.460170   -413.412918   -413.455248   \n",
              "2505       580.10               602.521612    602.433857    602.517197   \n",
              "1117       -34.05               -19.808152    -19.791245    -19.811262   \n",
              "1411       -81.37              -172.968197   -172.934813   -172.969120   \n",
              "2113       552.60               601.278257    601.216623    601.268637   \n",
              "408        -24.39               -42.406417    -42.445997    -42.397364   \n",
              "2579       538.47               558.283905    558.244597    558.271341   \n",
              "\n",
              "      Elastic reg out  \n",
              "1801        61.233404  \n",
              "1190      -576.452300  \n",
              "1817      -112.484717  \n",
              "251       -413.455236  \n",
              "2505       602.517179  \n",
              "1117       -19.811261  \n",
              "1411      -172.969114  \n",
              "2113       601.268621  \n",
              "408        -42.397366  \n",
              "2579       558.271326  "
            ],
            "text/html": [
              "\n",
              "  <div id=\"df-09b10d7d-55c1-4e65-8648-a92beca8876a\">\n",
              "    <div class=\"colab-df-container\">\n",
              "      <div>\n",
              "<style scoped>\n",
              "    .dataframe tbody tr th:only-of-type {\n",
              "        vertical-align: middle;\n",
              "    }\n",
              "\n",
              "    .dataframe tbody tr th {\n",
              "        vertical-align: top;\n",
              "    }\n",
              "\n",
              "    .dataframe thead th {\n",
              "        text-align: right;\n",
              "    }\n",
              "</style>\n",
              "<table border=\"1\" class=\"dataframe\">\n",
              "  <thead>\n",
              "    <tr style=\"text-align: right;\">\n",
              "      <th></th>\n",
              "      <th>Test Output</th>\n",
              "      <th>LinearRegression Output</th>\n",
              "      <th>Ridge Output</th>\n",
              "      <th>Lasso Output</th>\n",
              "      <th>Elastic reg out</th>\n",
              "    </tr>\n",
              "  </thead>\n",
              "  <tbody>\n",
              "    <tr>\n",
              "      <th>1801</th>\n",
              "      <td>66.12</td>\n",
              "      <td>61.235630</td>\n",
              "      <td>61.233656</td>\n",
              "      <td>61.233406</td>\n",
              "      <td>61.233404</td>\n",
              "    </tr>\n",
              "    <tr>\n",
              "      <th>1190</th>\n",
              "      <td>-572.89</td>\n",
              "      <td>-576.474002</td>\n",
              "      <td>-576.481071</td>\n",
              "      <td>-576.452311</td>\n",
              "      <td>-576.452300</td>\n",
              "    </tr>\n",
              "    <tr>\n",
              "      <th>1817</th>\n",
              "      <td>-94.71</td>\n",
              "      <td>-112.489283</td>\n",
              "      <td>-112.494007</td>\n",
              "      <td>-112.484719</td>\n",
              "      <td>-112.484717</td>\n",
              "    </tr>\n",
              "    <tr>\n",
              "      <th>251</th>\n",
              "      <td>-306.84</td>\n",
              "      <td>-413.460170</td>\n",
              "      <td>-413.412918</td>\n",
              "      <td>-413.455248</td>\n",
              "      <td>-413.455236</td>\n",
              "    </tr>\n",
              "    <tr>\n",
              "      <th>2505</th>\n",
              "      <td>580.10</td>\n",
              "      <td>602.521612</td>\n",
              "      <td>602.433857</td>\n",
              "      <td>602.517197</td>\n",
              "      <td>602.517179</td>\n",
              "    </tr>\n",
              "    <tr>\n",
              "      <th>1117</th>\n",
              "      <td>-34.05</td>\n",
              "      <td>-19.808152</td>\n",
              "      <td>-19.791245</td>\n",
              "      <td>-19.811262</td>\n",
              "      <td>-19.811261</td>\n",
              "    </tr>\n",
              "    <tr>\n",
              "      <th>1411</th>\n",
              "      <td>-81.37</td>\n",
              "      <td>-172.968197</td>\n",
              "      <td>-172.934813</td>\n",
              "      <td>-172.969120</td>\n",
              "      <td>-172.969114</td>\n",
              "    </tr>\n",
              "    <tr>\n",
              "      <th>2113</th>\n",
              "      <td>552.60</td>\n",
              "      <td>601.278257</td>\n",
              "      <td>601.216623</td>\n",
              "      <td>601.268637</td>\n",
              "      <td>601.268621</td>\n",
              "    </tr>\n",
              "    <tr>\n",
              "      <th>408</th>\n",
              "      <td>-24.39</td>\n",
              "      <td>-42.406417</td>\n",
              "      <td>-42.445997</td>\n",
              "      <td>-42.397364</td>\n",
              "      <td>-42.397366</td>\n",
              "    </tr>\n",
              "    <tr>\n",
              "      <th>2579</th>\n",
              "      <td>538.47</td>\n",
              "      <td>558.283905</td>\n",
              "      <td>558.244597</td>\n",
              "      <td>558.271341</td>\n",
              "      <td>558.271326</td>\n",
              "    </tr>\n",
              "  </tbody>\n",
              "</table>\n",
              "</div>\n",
              "      <button class=\"colab-df-convert\" onclick=\"convertToInteractive('df-09b10d7d-55c1-4e65-8648-a92beca8876a')\"\n",
              "              title=\"Convert this dataframe to an interactive table.\"\n",
              "              style=\"display:none;\">\n",
              "        \n",
              "  <svg xmlns=\"http://www.w3.org/2000/svg\" height=\"24px\"viewBox=\"0 0 24 24\"\n",
              "       width=\"24px\">\n",
              "    <path d=\"M0 0h24v24H0V0z\" fill=\"none\"/>\n",
              "    <path d=\"M18.56 5.44l.94 2.06.94-2.06 2.06-.94-2.06-.94-.94-2.06-.94 2.06-2.06.94zm-11 1L8.5 8.5l.94-2.06 2.06-.94-2.06-.94L8.5 2.5l-.94 2.06-2.06.94zm10 10l.94 2.06.94-2.06 2.06-.94-2.06-.94-.94-2.06-.94 2.06-2.06.94z\"/><path d=\"M17.41 7.96l-1.37-1.37c-.4-.4-.92-.59-1.43-.59-.52 0-1.04.2-1.43.59L10.3 9.45l-7.72 7.72c-.78.78-.78 2.05 0 2.83L4 21.41c.39.39.9.59 1.41.59.51 0 1.02-.2 1.41-.59l7.78-7.78 2.81-2.81c.8-.78.8-2.07 0-2.86zM5.41 20L4 18.59l7.72-7.72 1.47 1.35L5.41 20z\"/>\n",
              "  </svg>\n",
              "      </button>\n",
              "      \n",
              "  <style>\n",
              "    .colab-df-container {\n",
              "      display:flex;\n",
              "      flex-wrap:wrap;\n",
              "      gap: 12px;\n",
              "    }\n",
              "\n",
              "    .colab-df-convert {\n",
              "      background-color: #E8F0FE;\n",
              "      border: none;\n",
              "      border-radius: 50%;\n",
              "      cursor: pointer;\n",
              "      display: none;\n",
              "      fill: #1967D2;\n",
              "      height: 32px;\n",
              "      padding: 0 0 0 0;\n",
              "      width: 32px;\n",
              "    }\n",
              "\n",
              "    .colab-df-convert:hover {\n",
              "      background-color: #E2EBFA;\n",
              "      box-shadow: 0px 1px 2px rgba(60, 64, 67, 0.3), 0px 1px 3px 1px rgba(60, 64, 67, 0.15);\n",
              "      fill: #174EA6;\n",
              "    }\n",
              "\n",
              "    [theme=dark] .colab-df-convert {\n",
              "      background-color: #3B4455;\n",
              "      fill: #D2E3FC;\n",
              "    }\n",
              "\n",
              "    [theme=dark] .colab-df-convert:hover {\n",
              "      background-color: #434B5C;\n",
              "      box-shadow: 0px 1px 3px 1px rgba(0, 0, 0, 0.15);\n",
              "      filter: drop-shadow(0px 1px 2px rgba(0, 0, 0, 0.3));\n",
              "      fill: #FFFFFF;\n",
              "    }\n",
              "  </style>\n",
              "\n",
              "      <script>\n",
              "        const buttonEl =\n",
              "          document.querySelector('#df-09b10d7d-55c1-4e65-8648-a92beca8876a button.colab-df-convert');\n",
              "        buttonEl.style.display =\n",
              "          google.colab.kernel.accessAllowed ? 'block' : 'none';\n",
              "\n",
              "        async function convertToInteractive(key) {\n",
              "          const element = document.querySelector('#df-09b10d7d-55c1-4e65-8648-a92beca8876a');\n",
              "          const dataTable =\n",
              "            await google.colab.kernel.invokeFunction('convertToInteractive',\n",
              "                                                     [key], {});\n",
              "          if (!dataTable) return;\n",
              "\n",
              "          const docLinkHtml = 'Like what you see? Visit the ' +\n",
              "            '<a target=\"_blank\" href=https://colab.research.google.com/notebooks/data_table.ipynb>data table notebook</a>'\n",
              "            + ' to learn more about interactive tables.';\n",
              "          element.innerHTML = '';\n",
              "          dataTable['output_type'] = 'display_data';\n",
              "          await google.colab.output.renderOutput(dataTable, element);\n",
              "          const docLink = document.createElement('div');\n",
              "          docLink.innerHTML = docLinkHtml;\n",
              "          element.appendChild(docLink);\n",
              "        }\n",
              "      </script>\n",
              "    </div>\n",
              "  </div>\n",
              "  "
            ]
          },
          "metadata": {},
          "execution_count": 16
        }
      ]
    },
    {
      "cell_type": "code",
      "source": [
        "# Find both RMSE and MAE for all the regression models on both training(train+val) and testing data.\n",
        "\n",
        "print(\"***********************************************************************************\")\n",
        "print('RMSE for Linear Regression for Train + Valid data: ',np.sqrt(mean_squared_error(y_split, train_prediction)))\n",
        "print('RMSE for Linear Regression for Test data: ',np.sqrt(mean_squared_error(y_test,test_prediction)))\n",
        "print('MAE for Linear Regression for Train+Valid data: ',mean_absolute_error(y_split,train_prediction))\n",
        "print('MAE for Linear Regression for Test data: ',mean_absolute_error(y_test,test_prediction))\n",
        "print(\"***********************************************************************************\")\n",
        "print('RMSE for Ridge Regression for Train + Valid data: ',np.sqrt(mean_squared_error(y_split, train_ridge_prediction)))\n",
        "print('RMSE for Ridge Regression for Test data: ',np.sqrt(mean_squared_error(y_test, test_lasso_prediction)))\n",
        "print('MAE for Ridge Regression for Train + Valid data: ',mean_absolute_error(y_split, train_ridge_prediction))\n",
        "print('MAE for Ridge Regression for Test data: ',mean_absolute_error(y_test, test_lasso_prediction))\n",
        "print(\"***********************************************************************************\")\n",
        "print('RMSE for Lasso Regression for Train + Valid data: ',np.sqrt(mean_squared_error(y_split, train_lasso_prediction)))\n",
        "print('RMSE for Lasso Regression for Test data: ',np.sqrt(mean_squared_error(y_test, test_lasso_prediction)))\n",
        "print('MAE for Lasso Regression for Train + Valid data: ',mean_absolute_error(y_split, train_lasso_prediction))\n",
        "print('MAE for Lasso Regression for Test data: ',mean_absolute_error(y_test, test_lasso_prediction))\n",
        "print(\"***********************************************************************************\")\n",
        "print('RMSE for ElasticNet Regression for Train + Valid data: ',np.sqrt(mean_squared_error(y_split, train_elasticNetCV_prediction)))\n",
        "print('RMSE for ElasticNet Regression for Test data: ',np.sqrt(mean_squared_error(y_test, test_elasticNetCV_prediction)))\n",
        "print('MAE for ElasticNet Regression for Train + Valid data: ',mean_absolute_error(y_split, train_elasticNetCV_prediction))\n",
        "print('MAE for ElasticNet Regression for Test data: ',mean_absolute_error(y_test, test_elasticNetCV_prediction))\n",
        "print(\"***********************************************************************************\")"
      ],
      "metadata": {
        "id": "6I-n5D6fRedg",
        "colab": {
          "base_uri": "https://localhost:8080/"
        },
        "outputId": "3719926c-1078-4b01-ff7c-b410ebf00e5e"
      },
      "execution_count": 17,
      "outputs": [
        {
          "output_type": "stream",
          "name": "stdout",
          "text": [
            "***********************************************************************************\n",
            "RMSE for Linear Regression for Train + Valid data:  151.58756422068186\n",
            "RMSE for Linear Regression for Test data:  148.47388000962516\n",
            "MAE for Linear Regression for Train+Valid data:  120.77989321708048\n",
            "MAE for Linear Regression for Test data:  118.72866511674283\n",
            "***********************************************************************************\n",
            "RMSE for Ridge Regression for Train + Valid data:  151.58757379663814\n",
            "RMSE for Ridge Regression for Test data:  148.4732299322618\n",
            "MAE for Ridge Regression for Train + Valid data:  120.7807375001705\n",
            "MAE for Ridge Regression for Test data:  118.72796609932276\n",
            "***********************************************************************************\n",
            "RMSE for Lasso Regression for Train + Valid data:  151.5875649108729\n",
            "RMSE for Lasso Regression for Test data:  148.4732299322618\n",
            "MAE for Lasso Regression for Train + Valid data:  120.78007761950833\n",
            "MAE for Lasso Regression for Test data:  118.72796609932276\n",
            "***********************************************************************************\n",
            "RMSE for ElasticNet Regression for Train + Valid data:  151.58756491229042\n",
            "RMSE for ElasticNet Regression for Test data:  148.47322968013762\n",
            "MAE for ElasticNet Regression for Train + Valid data:  120.78007788039423\n",
            "MAE for ElasticNet Regression for Test data:  118.72796599479375\n",
            "***********************************************************************************\n"
          ]
        }
      ]
    },
    {
      "cell_type": "code",
      "source": [
        "x = PrettyTable()\n",
        "x.field_names = [\"Model\",\"alpha\",\"MAE\",\"RMSE\",\"Data Type\"]\n",
        "x.add_row([\"Linear Regression\", ridge.alpha_, mean_absolute_error(y_split,train_prediction), np.sqrt(mean_squared_error(y_split, train_prediction)),\"Train + Valid data\"])\n",
        "x.add_row([\"Linear Regression\", ridge.alpha_, mean_absolute_error(y_test,test_prediction), np.sqrt(mean_squared_error(y_test,test_prediction)),\"Test\"])\n",
        "#x.add_row([\"Ridge Regression\", ridge.alpha_, mean_absolute_error(y_split, train_ridge_prediction), np.sqrt(mean_squared_error(y_split, train_ridge_prediction)),\"Train + Valid data\"])\n",
        "#x.add_row([\"Ridge Regression\", ridge.alpha_, mean_absolute_error(y_test, test_lasso_prediction)), np.sqrt(mean_squared_error(y_test, test_lasso_prediction)),\"Test\"])\n",
        "#x.add_row([\"Lasso Regression\", ridge.alpha_, mean_absolute_error(y_split,train_prediction), np.sqrt(mean_squared_error(y_split, train_prediction)),\"Train + Valid data\"])\n",
        "#x.add_row([\"Lasso Regression\", ridge.alpha_, mean_absolute_error(y_test,test_prediction), np.sqrt(mean_squared_error(y_test,test_prediction)),\"Test\"])\n",
        "\n",
        "print(x)"
      ],
      "metadata": {
        "colab": {
          "base_uri": "https://localhost:8080/"
        },
        "id": "YmLfJ8yC51jS",
        "outputId": "3bd9b51b-3a28-4108-8321-a5282082630d"
      },
      "execution_count": 18,
      "outputs": [
        {
          "output_type": "stream",
          "name": "stdout",
          "text": [
            "+-------------------+--------------------+--------------------+--------------------+--------------------+\n",
            "|       Model       |       alpha        |        MAE         |        RMSE        |     Data Type      |\n",
            "+-------------------+--------------------+--------------------+--------------------+--------------------+\n",
            "| Linear Regression | 344.87587587587586 | 120.77989321708048 | 151.58756422068186 | Train + Valid data |\n",
            "| Linear Regression | 344.87587587587586 | 118.72866511674283 | 148.47388000962516 |        Test        |\n",
            "+-------------------+--------------------+--------------------+--------------------+--------------------+\n"
          ]
        }
      ]
    },
    {
      "cell_type": "markdown",
      "source": [
        "## 6. Final Observations\n",
        "Write down your final conclusions and observations"
      ],
      "metadata": {
        "id": "93Aod5H3RTNu"
      }
    },
    {
      "cell_type": "markdown",
      "source": [
        "From section 5(Analysis), we can see that RMSE and MAE are very similar and almost the same across all 4 models. Hence,we can say that the regularization does not have much effect on this model. Linear regression would be best in this scenario as their would be less processing required without any regularization. All the other methods with regularization and hyper parameter tuning are a bit of over kill and the complexity could have been avoided. Also, on calculating the coeffients of x1 and x2 obtained from the 4 models, they also come out to be close. "
      ],
      "metadata": {
        "id": "ccFtrl3v57BX"
      }
    },
    {
      "cell_type": "markdown",
      "source": [
        "# Question 2 (30 points)\n",
        "\n",
        "Given the automobile dataset at https://s3-api.us-geo.objectstorage.softlayer.net/cf-courses-data/CognitiveClass/DA0101EN/automobileEDA.csv , "
      ],
      "metadata": {
        "id": "423bWO--Sx0_"
      }
    },
    {
      "cell_type": "code",
      "source": [
        "import pandas as pd\n",
        "import numpy as np\n",
        "import matplotlib.pyplot as plt "
      ],
      "metadata": {
        "id": "SoKJtsUc6KP3"
      },
      "execution_count": 19,
      "outputs": []
    },
    {
      "cell_type": "code",
      "source": [
        "df = pd.read_csv('automobileEDA.csv')"
      ],
      "metadata": {
        "id": "vnAxzlRW6Tql"
      },
      "execution_count": 24,
      "outputs": []
    },
    {
      "cell_type": "code",
      "source": [
        "df.head() "
      ],
      "metadata": {
        "colab": {
          "base_uri": "https://localhost:8080/",
          "height": 386
        },
        "id": "qVkVAN3H62DV",
        "outputId": "a9c6956f-6047-4df4-e051-c1f7bb13d3be"
      },
      "execution_count": 25,
      "outputs": [
        {
          "output_type": "execute_result",
          "data": {
            "text/plain": [
              "   symboling  normalized-losses         make aspiration num-of-doors  \\\n",
              "0          3                122  alfa-romero        std          two   \n",
              "1          3                122  alfa-romero        std          two   \n",
              "2          1                122  alfa-romero        std          two   \n",
              "3          2                164         audi        std         four   \n",
              "4          2                164         audi        std         four   \n",
              "\n",
              "    body-style drive-wheels engine-location  wheel-base    length  ...  \\\n",
              "0  convertible          rwd           front        88.6  0.811148  ...   \n",
              "1  convertible          rwd           front        88.6  0.811148  ...   \n",
              "2    hatchback          rwd           front        94.5  0.822681  ...   \n",
              "3        sedan          fwd           front        99.8  0.848630  ...   \n",
              "4        sedan          4wd           front        99.4  0.848630  ...   \n",
              "\n",
              "   compression-ratio  horsepower  peak-rpm city-mpg highway-mpg    price  \\\n",
              "0                9.0       111.0    5000.0       21          27  13495.0   \n",
              "1                9.0       111.0    5000.0       21          27  16500.0   \n",
              "2                9.0       154.0    5000.0       19          26  16500.0   \n",
              "3               10.0       102.0    5500.0       24          30  13950.0   \n",
              "4                8.0       115.0    5500.0       18          22  17450.0   \n",
              "\n",
              "  city-L/100km  horsepower-binned  diesel  gas  \n",
              "0    11.190476             Medium       0    1  \n",
              "1    11.190476             Medium       0    1  \n",
              "2    12.368421             Medium       0    1  \n",
              "3     9.791667             Medium       0    1  \n",
              "4    13.055556             Medium       0    1  \n",
              "\n",
              "[5 rows x 29 columns]"
            ],
            "text/html": [
              "\n",
              "  <div id=\"df-3d7c94c7-9290-4077-967c-398b48a13512\">\n",
              "    <div class=\"colab-df-container\">\n",
              "      <div>\n",
              "<style scoped>\n",
              "    .dataframe tbody tr th:only-of-type {\n",
              "        vertical-align: middle;\n",
              "    }\n",
              "\n",
              "    .dataframe tbody tr th {\n",
              "        vertical-align: top;\n",
              "    }\n",
              "\n",
              "    .dataframe thead th {\n",
              "        text-align: right;\n",
              "    }\n",
              "</style>\n",
              "<table border=\"1\" class=\"dataframe\">\n",
              "  <thead>\n",
              "    <tr style=\"text-align: right;\">\n",
              "      <th></th>\n",
              "      <th>symboling</th>\n",
              "      <th>normalized-losses</th>\n",
              "      <th>make</th>\n",
              "      <th>aspiration</th>\n",
              "      <th>num-of-doors</th>\n",
              "      <th>body-style</th>\n",
              "      <th>drive-wheels</th>\n",
              "      <th>engine-location</th>\n",
              "      <th>wheel-base</th>\n",
              "      <th>length</th>\n",
              "      <th>...</th>\n",
              "      <th>compression-ratio</th>\n",
              "      <th>horsepower</th>\n",
              "      <th>peak-rpm</th>\n",
              "      <th>city-mpg</th>\n",
              "      <th>highway-mpg</th>\n",
              "      <th>price</th>\n",
              "      <th>city-L/100km</th>\n",
              "      <th>horsepower-binned</th>\n",
              "      <th>diesel</th>\n",
              "      <th>gas</th>\n",
              "    </tr>\n",
              "  </thead>\n",
              "  <tbody>\n",
              "    <tr>\n",
              "      <th>0</th>\n",
              "      <td>3</td>\n",
              "      <td>122</td>\n",
              "      <td>alfa-romero</td>\n",
              "      <td>std</td>\n",
              "      <td>two</td>\n",
              "      <td>convertible</td>\n",
              "      <td>rwd</td>\n",
              "      <td>front</td>\n",
              "      <td>88.6</td>\n",
              "      <td>0.811148</td>\n",
              "      <td>...</td>\n",
              "      <td>9.0</td>\n",
              "      <td>111.0</td>\n",
              "      <td>5000.0</td>\n",
              "      <td>21</td>\n",
              "      <td>27</td>\n",
              "      <td>13495.0</td>\n",
              "      <td>11.190476</td>\n",
              "      <td>Medium</td>\n",
              "      <td>0</td>\n",
              "      <td>1</td>\n",
              "    </tr>\n",
              "    <tr>\n",
              "      <th>1</th>\n",
              "      <td>3</td>\n",
              "      <td>122</td>\n",
              "      <td>alfa-romero</td>\n",
              "      <td>std</td>\n",
              "      <td>two</td>\n",
              "      <td>convertible</td>\n",
              "      <td>rwd</td>\n",
              "      <td>front</td>\n",
              "      <td>88.6</td>\n",
              "      <td>0.811148</td>\n",
              "      <td>...</td>\n",
              "      <td>9.0</td>\n",
              "      <td>111.0</td>\n",
              "      <td>5000.0</td>\n",
              "      <td>21</td>\n",
              "      <td>27</td>\n",
              "      <td>16500.0</td>\n",
              "      <td>11.190476</td>\n",
              "      <td>Medium</td>\n",
              "      <td>0</td>\n",
              "      <td>1</td>\n",
              "    </tr>\n",
              "    <tr>\n",
              "      <th>2</th>\n",
              "      <td>1</td>\n",
              "      <td>122</td>\n",
              "      <td>alfa-romero</td>\n",
              "      <td>std</td>\n",
              "      <td>two</td>\n",
              "      <td>hatchback</td>\n",
              "      <td>rwd</td>\n",
              "      <td>front</td>\n",
              "      <td>94.5</td>\n",
              "      <td>0.822681</td>\n",
              "      <td>...</td>\n",
              "      <td>9.0</td>\n",
              "      <td>154.0</td>\n",
              "      <td>5000.0</td>\n",
              "      <td>19</td>\n",
              "      <td>26</td>\n",
              "      <td>16500.0</td>\n",
              "      <td>12.368421</td>\n",
              "      <td>Medium</td>\n",
              "      <td>0</td>\n",
              "      <td>1</td>\n",
              "    </tr>\n",
              "    <tr>\n",
              "      <th>3</th>\n",
              "      <td>2</td>\n",
              "      <td>164</td>\n",
              "      <td>audi</td>\n",
              "      <td>std</td>\n",
              "      <td>four</td>\n",
              "      <td>sedan</td>\n",
              "      <td>fwd</td>\n",
              "      <td>front</td>\n",
              "      <td>99.8</td>\n",
              "      <td>0.848630</td>\n",
              "      <td>...</td>\n",
              "      <td>10.0</td>\n",
              "      <td>102.0</td>\n",
              "      <td>5500.0</td>\n",
              "      <td>24</td>\n",
              "      <td>30</td>\n",
              "      <td>13950.0</td>\n",
              "      <td>9.791667</td>\n",
              "      <td>Medium</td>\n",
              "      <td>0</td>\n",
              "      <td>1</td>\n",
              "    </tr>\n",
              "    <tr>\n",
              "      <th>4</th>\n",
              "      <td>2</td>\n",
              "      <td>164</td>\n",
              "      <td>audi</td>\n",
              "      <td>std</td>\n",
              "      <td>four</td>\n",
              "      <td>sedan</td>\n",
              "      <td>4wd</td>\n",
              "      <td>front</td>\n",
              "      <td>99.4</td>\n",
              "      <td>0.848630</td>\n",
              "      <td>...</td>\n",
              "      <td>8.0</td>\n",
              "      <td>115.0</td>\n",
              "      <td>5500.0</td>\n",
              "      <td>18</td>\n",
              "      <td>22</td>\n",
              "      <td>17450.0</td>\n",
              "      <td>13.055556</td>\n",
              "      <td>Medium</td>\n",
              "      <td>0</td>\n",
              "      <td>1</td>\n",
              "    </tr>\n",
              "  </tbody>\n",
              "</table>\n",
              "<p>5 rows × 29 columns</p>\n",
              "</div>\n",
              "      <button class=\"colab-df-convert\" onclick=\"convertToInteractive('df-3d7c94c7-9290-4077-967c-398b48a13512')\"\n",
              "              title=\"Convert this dataframe to an interactive table.\"\n",
              "              style=\"display:none;\">\n",
              "        \n",
              "  <svg xmlns=\"http://www.w3.org/2000/svg\" height=\"24px\"viewBox=\"0 0 24 24\"\n",
              "       width=\"24px\">\n",
              "    <path d=\"M0 0h24v24H0V0z\" fill=\"none\"/>\n",
              "    <path d=\"M18.56 5.44l.94 2.06.94-2.06 2.06-.94-2.06-.94-.94-2.06-.94 2.06-2.06.94zm-11 1L8.5 8.5l.94-2.06 2.06-.94-2.06-.94L8.5 2.5l-.94 2.06-2.06.94zm10 10l.94 2.06.94-2.06 2.06-.94-2.06-.94-.94-2.06-.94 2.06-2.06.94z\"/><path d=\"M17.41 7.96l-1.37-1.37c-.4-.4-.92-.59-1.43-.59-.52 0-1.04.2-1.43.59L10.3 9.45l-7.72 7.72c-.78.78-.78 2.05 0 2.83L4 21.41c.39.39.9.59 1.41.59.51 0 1.02-.2 1.41-.59l7.78-7.78 2.81-2.81c.8-.78.8-2.07 0-2.86zM5.41 20L4 18.59l7.72-7.72 1.47 1.35L5.41 20z\"/>\n",
              "  </svg>\n",
              "      </button>\n",
              "      \n",
              "  <style>\n",
              "    .colab-df-container {\n",
              "      display:flex;\n",
              "      flex-wrap:wrap;\n",
              "      gap: 12px;\n",
              "    }\n",
              "\n",
              "    .colab-df-convert {\n",
              "      background-color: #E8F0FE;\n",
              "      border: none;\n",
              "      border-radius: 50%;\n",
              "      cursor: pointer;\n",
              "      display: none;\n",
              "      fill: #1967D2;\n",
              "      height: 32px;\n",
              "      padding: 0 0 0 0;\n",
              "      width: 32px;\n",
              "    }\n",
              "\n",
              "    .colab-df-convert:hover {\n",
              "      background-color: #E2EBFA;\n",
              "      box-shadow: 0px 1px 2px rgba(60, 64, 67, 0.3), 0px 1px 3px 1px rgba(60, 64, 67, 0.15);\n",
              "      fill: #174EA6;\n",
              "    }\n",
              "\n",
              "    [theme=dark] .colab-df-convert {\n",
              "      background-color: #3B4455;\n",
              "      fill: #D2E3FC;\n",
              "    }\n",
              "\n",
              "    [theme=dark] .colab-df-convert:hover {\n",
              "      background-color: #434B5C;\n",
              "      box-shadow: 0px 1px 3px 1px rgba(0, 0, 0, 0.15);\n",
              "      filter: drop-shadow(0px 1px 2px rgba(0, 0, 0, 0.3));\n",
              "      fill: #FFFFFF;\n",
              "    }\n",
              "  </style>\n",
              "\n",
              "      <script>\n",
              "        const buttonEl =\n",
              "          document.querySelector('#df-3d7c94c7-9290-4077-967c-398b48a13512 button.colab-df-convert');\n",
              "        buttonEl.style.display =\n",
              "          google.colab.kernel.accessAllowed ? 'block' : 'none';\n",
              "\n",
              "        async function convertToInteractive(key) {\n",
              "          const element = document.querySelector('#df-3d7c94c7-9290-4077-967c-398b48a13512');\n",
              "          const dataTable =\n",
              "            await google.colab.kernel.invokeFunction('convertToInteractive',\n",
              "                                                     [key], {});\n",
              "          if (!dataTable) return;\n",
              "\n",
              "          const docLinkHtml = 'Like what you see? Visit the ' +\n",
              "            '<a target=\"_blank\" href=https://colab.research.google.com/notebooks/data_table.ipynb>data table notebook</a>'\n",
              "            + ' to learn more about interactive tables.';\n",
              "          element.innerHTML = '';\n",
              "          dataTable['output_type'] = 'display_data';\n",
              "          await google.colab.output.renderOutput(dataTable, element);\n",
              "          const docLink = document.createElement('div');\n",
              "          docLink.innerHTML = docLinkHtml;\n",
              "          element.appendChild(docLink);\n",
              "        }\n",
              "      </script>\n",
              "    </div>\n",
              "  </div>\n",
              "  "
            ]
          },
          "metadata": {},
          "execution_count": 25
        }
      ]
    },
    {
      "cell_type": "markdown",
      "source": [
        "## 1. Load and examine the dataset"
      ],
      "metadata": {
        "id": "aGXZyLX5Txdj"
      }
    },
    {
      "cell_type": "code",
      "source": [
        "from sklearn.linear_model import LinearRegression"
      ],
      "metadata": {
        "id": "gDd0icwlS1VR"
      },
      "execution_count": 26,
      "outputs": []
    },
    {
      "cell_type": "code",
      "source": [
        "lm = LinearRegression()\n",
        "lm "
      ],
      "metadata": {
        "colab": {
          "base_uri": "https://localhost:8080/"
        },
        "id": "_CPlXNrI66px",
        "outputId": "7b3f336b-915a-41ca-c40d-b7ca5f9972e6"
      },
      "execution_count": 27,
      "outputs": [
        {
          "output_type": "execute_result",
          "data": {
            "text/plain": [
              "LinearRegression()"
            ]
          },
          "metadata": {},
          "execution_count": 27
        }
      ]
    },
    {
      "cell_type": "code",
      "source": [
        "X = df[['highway-mpg']]"
      ],
      "metadata": {
        "id": "GZPNMXW46-tJ"
      },
      "execution_count": 30,
      "outputs": []
    },
    {
      "cell_type": "code",
      "source": [
        "Y = df['price']"
      ],
      "metadata": {
        "id": "C57c3vOW7HZi"
      },
      "execution_count": 32,
      "outputs": []
    },
    {
      "cell_type": "markdown",
      "source": [
        "### Fit and Train"
      ],
      "metadata": {
        "id": "Hk68mN8-7REc"
      }
    },
    {
      "cell_type": "code",
      "source": [
        "lm.fit(X,Y)"
      ],
      "metadata": {
        "colab": {
          "base_uri": "https://localhost:8080/"
        },
        "id": "oaUHPY5M7QGc",
        "outputId": "2ba981cf-73a8-445c-99a3-0ecbeb2dc635"
      },
      "execution_count": 33,
      "outputs": [
        {
          "output_type": "execute_result",
          "data": {
            "text/plain": [
              "LinearRegression()"
            ]
          },
          "metadata": {},
          "execution_count": 33
        }
      ]
    },
    {
      "cell_type": "markdown",
      "source": [
        "## 2. Visualise/Plot the regression model"
      ],
      "metadata": {
        "id": "uhCZ1KetT9eR"
      }
    },
    {
      "cell_type": "code",
      "source": [
        "import seaborn as sns\n",
        "%matplotlib inline "
      ],
      "metadata": {
        "id": "9JbPrxgIUAsA"
      },
      "execution_count": 34,
      "outputs": []
    },
    {
      "cell_type": "code",
      "source": [
        "width = 12\n",
        "height = 10\n",
        "plt.figure(figsize=(width, height))\n",
        "sns.regplot(x=\"highway-mpg\", y=\"price\", data=df)\n",
        "plt.ylim(0,) "
      ],
      "metadata": {
        "colab": {
          "base_uri": "https://localhost:8080/",
          "height": 624
        },
        "id": "SnG8WRiX7jie",
        "outputId": "0a764e02-5cb7-4e7a-b99c-80caf40bb4db"
      },
      "execution_count": 35,
      "outputs": [
        {
          "output_type": "execute_result",
          "data": {
            "text/plain": [
              "(0.0, 48167.469577341675)"
            ]
          },
          "metadata": {},
          "execution_count": 35
        },
        {
          "output_type": "display_data",
          "data": {
            "text/plain": [
              "<Figure size 864x720 with 1 Axes>"
            ],
            "image/png": "[encoded data removed]"
          },
          "metadata": {
            "needs_background": "light"
          }
        }
      ]
    },
    {
      "cell_type": "markdown",
      "source": [
        "-- Price is negatively correlated to highway-mpg.\n",
        "\n",
        "-- The data points are scattered badly around the regression line.\n",
        "\n",
        "-- A linear model is NOT the best fit."
      ],
      "metadata": {
        "id": "DeF9rUhf7tA3"
      }
    },
    {
      "cell_type": "markdown",
      "source": [
        "## 3. Generate a Linear Regression equation"
      ],
      "metadata": {
        "id": "z6bwJSrlUB2-"
      }
    },
    {
      "cell_type": "markdown",
      "source": [
        "### Find y-intercept"
      ],
      "metadata": {
        "id": "T3iQUb8d72lU"
      }
    },
    {
      "cell_type": "code",
      "source": [
        "lm.intercept_"
      ],
      "metadata": {
        "id": "qNJJPKnRUEcA",
        "colab": {
          "base_uri": "https://localhost:8080/"
        },
        "outputId": "b0f5be4b-a360-40c9-b261-4015e3635df5"
      },
      "execution_count": 36,
      "outputs": [
        {
          "output_type": "execute_result",
          "data": {
            "text/plain": [
              "38423.3058581574"
            ]
          },
          "metadata": {},
          "execution_count": 36
        }
      ]
    },
    {
      "cell_type": "markdown",
      "source": [
        "### Find the gradient"
      ],
      "metadata": {
        "id": "3v65vAaX8A5P"
      }
    },
    {
      "cell_type": "code",
      "source": [
        "lm.coef_"
      ],
      "metadata": {
        "colab": {
          "base_uri": "https://localhost:8080/"
        },
        "id": "M02e2YAa77Bf",
        "outputId": "d51d45fe-1f88-4366-9487-3e5fcff07ddd"
      },
      "execution_count": 37,
      "outputs": [
        {
          "output_type": "execute_result",
          "data": {
            "text/plain": [
              "array([-821.73337832])"
            ]
          },
          "metadata": {},
          "execution_count": 37
        }
      ]
    },
    {
      "cell_type": "markdown",
      "source": [
        "### Test predictions"
      ],
      "metadata": {
        "id": "QhpnK9mK8LvQ"
      }
    },
    {
      "cell_type": "code",
      "source": [
        "Yhat=lm.predict(X)\n",
        "Yhat[0:5]"
      ],
      "metadata": {
        "colab": {
          "base_uri": "https://localhost:8080/"
        },
        "id": "tHp9zW-P8NLa",
        "outputId": "ef291619-4cb7-434a-cd9c-8e74815be7d5"
      },
      "execution_count": 38,
      "outputs": [
        {
          "output_type": "execute_result",
          "data": {
            "text/plain": [
              "array([16236.50464347, 16236.50464347, 17058.23802179, 13771.3045085 ,\n",
              "       20345.17153508])"
            ]
          },
          "metadata": {},
          "execution_count": 38
        }
      ]
    },
    {
      "cell_type": "markdown",
      "source": [
        "## 4. Use a residual plot to inspect if LR fits the model"
      ],
      "metadata": {
        "id": "l_c0JMfiUFAs"
      }
    },
    {
      "cell_type": "code",
      "source": [
        "width = 12\n",
        "height = 10\n",
        "plt.figure(figsize=(width, height))\n",
        "sns.residplot(df['highway-mpg'], df['price'])\n",
        "plt.show() "
      ],
      "metadata": {
        "id": "0l78Xd1jUH_0",
        "colab": {
          "base_uri": "https://localhost:8080/",
          "height": 662
        },
        "outputId": "93c405be-1960-4c25-c9c2-8321d7a240d4"
      },
      "execution_count": 39,
      "outputs": [
        {
          "output_type": "stream",
          "name": "stderr",
          "text": [
            "/usr/local/lib/python3.8/dist-packages/seaborn/_decorators.py:36: FutureWarning: Pass the following variables as keyword args: x, y. From version 0.12, the only valid positional argument will be `data`, and passing other arguments without an explicit keyword will result in an error or misinterpretation.\n",
            "  warnings.warn(\n"
          ]
        },
        {
          "output_type": "display_data",
          "data": {
            "text/plain": [
              "<Figure size 864x720 with 1 Axes>"
            ],
            "image/png": "[encoded data removed]"
          },
          "metadata": {
            "needs_background": "light"
          }
        }
      ]
    },
    {
      "cell_type": "markdown",
      "source": [
        "\n",
        "\n",
        "*   What is a Residual? The difference between the observed value (y) and the predicted value\n",
        "(Yhat).\n",
        "\n",
        "*   If the points in a Residual Plot are randomly spread out around the x-axis, then a linear model is appropriate for the data. \n",
        "\n",
        "*   Because randomly spread out residuals means that the variance is constant, and thus the linear model is a good fit for this data. \n",
        "\n",
        "*   A residual plot is a graph that shows the residuals on the vertical y-axis and the independent variable on the horizontal x-axis. \n",
        "\n"
      ],
      "metadata": {
        "id": "PHSePkpm8uJ0"
      }
    },
    {
      "cell_type": "markdown",
      "source": [
        "## 5. Use R2 and MSE to determine the accuracy of the LR fit "
      ],
      "metadata": {
        "id": "_0i261n5UIgQ"
      }
    },
    {
      "cell_type": "code",
      "source": [
        "lm.fit(X, Y)\n",
        "# Find the R^2\n",
        "print('The R-square is: ', lm.score(X, Y)) "
      ],
      "metadata": {
        "id": "KIvCXwuZULKC",
        "colab": {
          "base_uri": "https://localhost:8080/"
        },
        "outputId": "e26c565c-a17c-4cb7-8fd1-b2aeec29f76a"
      },
      "execution_count": 40,
      "outputs": [
        {
          "output_type": "stream",
          "name": "stdout",
          "text": [
            "The R-square is:  0.4965911884339176\n"
          ]
        }
      ]
    },
    {
      "cell_type": "code",
      "source": [
        "Yhat=lm.predict(X)\n",
        "print('The output of the first four predicted value is: ', Yhat[0:4]) "
      ],
      "metadata": {
        "colab": {
          "base_uri": "https://localhost:8080/"
        },
        "id": "Z903DNBx9JPn",
        "outputId": "9ebbc063-4ead-46d3-b9ea-7858e67035fe"
      },
      "execution_count": 41,
      "outputs": [
        {
          "output_type": "stream",
          "name": "stdout",
          "text": [
            "The output of the first four predicted value is:  [16236.50464347 16236.50464347 17058.23802179 13771.3045085 ]\n"
          ]
        }
      ]
    },
    {
      "cell_type": "code",
      "source": [
        "from sklearn.metrics import mean_squared_error "
      ],
      "metadata": {
        "id": "K0UXBxQ39UFk"
      },
      "execution_count": 42,
      "outputs": []
    },
    {
      "cell_type": "code",
      "source": [
        "mse = mean_squared_error(df['price'], Yhat)\n",
        "print('The mean square error of price and predicted value is: ', mse) "
      ],
      "metadata": {
        "colab": {
          "base_uri": "https://localhost:8080/"
        },
        "id": "bvmVbT4N9UDO",
        "outputId": "1e850b23-6a23-4347-8462-2597b07e1a2d"
      },
      "execution_count": 43,
      "outputs": [
        {
          "output_type": "stream",
          "name": "stdout",
          "text": [
            "The mean square error of price and predicted value is:  31635042.944639888\n"
          ]
        }
      ]
    },
    {
      "cell_type": "markdown",
      "source": [
        "# Question 3 (20 points)"
      ],
      "metadata": {
        "id": "UNRD8r7mUNVU"
      }
    },
    {
      "cell_type": "markdown",
      "source": [
        "### In this assignment, you will experiment with a toy dataset – the Iris dataset."
      ],
      "metadata": {
        "id": "ItR7cF5fUY66"
      }
    },
    {
      "cell_type": "markdown",
      "source": [
        "## 1. Load the Iris dataset."
      ],
      "metadata": {
        "id": "gtcrm-IDUbr5"
      }
    },
    {
      "cell_type": "code",
      "source": [
        " # Import datasets library from sklearn and load the iris dataset\n",
        "\n",
        "from sklearn import datasets\n",
        "import numpy as np\n",
        "import seaborn as sns\n",
        "from sklearn.linear_model import LogisticRegression\n",
        "import warnings\n",
        "import pandas as pd\n",
        "import matplotlib.pyplot as plt\n",
        "\n",
        "\n",
        "warnings.filterwarnings(\"ignore\")\n",
        "\n",
        "iris=datasets.load_iris()"
      ],
      "metadata": {
        "id": "hE_vKdz6UQVt"
      },
      "execution_count": 55,
      "outputs": []
    },
    {
      "cell_type": "code",
      "source": [
        "# Reading the Data and Target values to x and y\n",
        "# Reading the target names to ynames\n",
        "\n",
        "inputData=iris.data\n",
        "target=iris.target\n",
        "targetNames=iris.target_names"
      ],
      "metadata": {
        "id": "3K94cNxx_uVe"
      },
      "execution_count": 56,
      "outputs": []
    },
    {
      "cell_type": "code",
      "source": [
        "# Creating seperate lists with different columns for stratified sampling \n",
        "\n",
        "sepalLength=[]\n",
        "sepalWidth=[]\n",
        "petalLength=[]\n",
        "petalWidth=[]\n",
        "for row in inputData:\n",
        "    sepalLength.append(row[0])\n",
        "    sepalWidth.append(row[1])\n",
        "    petalLength.append(row[2])\n",
        "    petalWidth.append(row[2])"
      ],
      "metadata": {
        "id": "EyvmjRA1_ur7"
      },
      "execution_count": 57,
      "outputs": []
    },
    {
      "cell_type": "markdown",
      "source": [
        "## 2. The Iris data has 3 classes. For the purpose of this assignment, you will modify it such that it has two classes – specifically, you will merge the “setosa” and “versicolor” classes."
      ],
      "metadata": {
        "id": "0kZJ_PPsVOIS"
      }
    },
    {
      "cell_type": "code",
      "source": [
        "# Filtering out the values with value 0 and 1 and encoding them as 1 , ie combining the classes\n",
        "# Encoding Setosa and Versicolor as 0 and Virginica as 1\n",
        "target[(target==0) | (target==1)]=0\n",
        "target[target==2]=1"
      ],
      "metadata": {
        "id": "SjHzStWgVSbg"
      },
      "execution_count": 58,
      "outputs": []
    },
    {
      "cell_type": "markdown",
      "source": [
        "## 3. Construct a training set and a testing set using 80-20 split using random sampling."
      ],
      "metadata": {
        "id": "op2Xh95_VS83"
      }
    },
    {
      "cell_type": "code",
      "source": [
        "# Creating an index to shuffle data and shuffling data using it\n",
        "indexList=[i for i in range(0,inputData.shape[0])]\n",
        "inputDistribution=(len(target[target==0])/len(target[target==1]))\n",
        "trainDistribution=0\n",
        "testDistribution=0\n",
        "\n",
        "np.random.shuffle(indexList) # Shuffling the index. Used for splitting train and test data\n",
        "splitLength=int(len(inputData)*0.8) # Finding the position to split\n",
        "trainIndex=indexList[0:splitLength]  #Splitting the train data randomly:Creating the indices\n",
        "testIndex=indexList[splitLength:] #Splitting the test data randomly; Creating the indices\n",
        "\n",
        "#Splitting the data\n",
        "X_train=inputData[trainIndex]\n",
        "Y_train=target[trainIndex]\n",
        "X_test=inputData[testIndex]\n",
        "Y_test=target[testIndex]\n",
        "\n",
        "#Finding the distribution of test and train datasets\n",
        "trainDistribution=len(Y_train[Y_train==0])/len(Y_train[Y_train==1])\n",
        "testDistribution=len(Y_test[Y_test==0])/len(Y_test[Y_test==1])\n",
        "print(trainDistribution,testDistribution)"
      ],
      "metadata": {
        "id": "sY8bt64fVW7Y",
        "colab": {
          "base_uri": "https://localhost:8080/"
        },
        "outputId": "93471373-ef01-471f-805a-1fa19d5df168"
      },
      "execution_count": 59,
      "outputs": [
        {
          "output_type": "stream",
          "name": "stdout",
          "text": [
            "1.8571428571428572 2.75\n"
          ]
        }
      ]
    },
    {
      "cell_type": "code",
      "source": [
        "#Distribution of targets in train and test datasets\n",
        "plt.figure(figsize=(20,3))\n",
        "\n",
        "#Plotting the distribution countplots\n",
        "\n",
        "plt.subplot(1,3,1)\n",
        "plt.title('Distribution of outputs in train dataset')\n",
        "sns.countplot(target)\n",
        "\n",
        "plt.subplot(1,3,2)\n",
        "plt.title('Distribution of outputs in test dataset')\n",
        "sns.countplot(Y_test)\n",
        "\n",
        "plt.subplot(1,3,3)\n",
        "plt.title('Distribution of outputs in train dataset')\n",
        "sns.countplot(Y_train)\n",
        "\n",
        "# Finding the distribution of the two classes in main, train and test datasets\n",
        "\n",
        "print('Class0/Class1 ration in input data: ',len(target[target==0])/len(target[target==1]))\n",
        "print('Class0/Class1 ration in train data: ',len(Y_train[Y_train==0])/len(Y_train[Y_train==1]))\n",
        "print('Class0/Class1 ration in train data: ',len(Y_test[Y_test==0])/len(Y_test[Y_test==1]))"
      ],
      "metadata": {
        "colab": {
          "base_uri": "https://localhost:8080/",
          "height": 281
        },
        "id": "f3bjAiem_4Rr",
        "outputId": "6ca47dbb-315c-4bc9-a893-4d2353ccb3dc"
      },
      "execution_count": 60,
      "outputs": [
        {
          "output_type": "stream",
          "name": "stdout",
          "text": [
            "Class0/Class1 ration in input data:  2.0\n",
            "Class0/Class1 ration in train data:  1.8571428571428572\n",
            "Class0/Class1 ration in train data:  2.75\n"
          ]
        },
        {
          "output_type": "display_data",
          "data": {
            "text/plain": [
              "<Figure size 1440x216 with 3 Axes>"
            ],
            "image/png": "[encoded data removed]"
          },
          "metadata": {
            "needs_background": "light"
          }
        }
      ]
    },
    {
      "cell_type": "markdown",
      "source": [
        "## 4. Use Logistic Regression as a black box classifier and assess the performance."
      ],
      "metadata": {
        "id": "Hn_mAD5bVX1x"
      }
    },
    {
      "cell_type": "code",
      "source": [
        "def createConfusionMatrix(predicted,target):\n",
        "    \"\"\" This function creates a confusion matrix by iterating through the predicted and target lists together using the zip function. \n",
        "    It compares elements from both the list elementwise and then checks if it is true positive, \n",
        "    false positive, true negative or false negative. \"\"\"\n",
        "    \n",
        "    trueNegative=0\n",
        "    truePositive=0\n",
        "    falsePositive=0\n",
        "    falseNegative=0\n",
        "    for prediction,actual in zip(predicted,target):\n",
        "        if (prediction==0) & (actual==0):\n",
        "            trueNegative+=1\n",
        "        elif (prediction==0) & (actual==1):\n",
        "            falsePositive+=1\n",
        "        elif (prediction==1) & (actual==0):\n",
        "            falseNegative+=1\n",
        "        elif (prediction==1) & (actual==1):\n",
        "            truePositive+=1\n",
        "    # Creating the confusion matrix\n",
        "    confusionMatrix=[[truePositive,falseNegative],[falsePositive,trueNegative]]\n",
        "    return confusionMatrix\n",
        "            "
      ],
      "metadata": {
        "id": "GxixZXXjV3tn"
      },
      "execution_count": 63,
      "outputs": []
    },
    {
      "cell_type": "code",
      "source": [
        "def symmetricLossFunction(predicted,actual):\n",
        "    \"\"\" Function to calculate the symmetric loss function. Here, the false negatives and false positives are penalised. \n",
        "    Hence this cannot be used to functions where we need to penalise false positive or true negative more\"\"\"\n",
        "    \n",
        "    loss=0\n",
        "    if len(predicted)==len(actual):\n",
        "        for i in range(len(predicted)):\n",
        "            if predicted[i]!=actual[i]:\n",
        "                loss+=1\n",
        "    return loss"
      ],
      "metadata": {
        "id": "2o4a11LEAArD"
      },
      "execution_count": 64,
      "outputs": []
    },
    {
      "cell_type": "code",
      "source": [
        "lr=LogisticRegression() # Creating a logistic regression object\n",
        "\n",
        "# Applying Logistic Regression on the unbalanced Dataset\n",
        "lr.fit(X_train,Y_train) # Fitting the object on train dataset to create the model\n",
        "# Doing predictions on train and test datasets\n",
        "Y_train_predicted=lr.predict(X_train)\n",
        "Y_test_predicted=lr.predict(X_test)\n",
        "\n",
        "# Plotting the confusion matrix using the sns heatmap for train and test data\n",
        "plt.figure(figsize=(10,3))\n",
        "plt.subplot(1,2,1)\n",
        "plt.title('Confusion Matrix on Train Data')\n",
        "confusionTrain=createConfusionMatrix(Y_train_predicted,Y_test)\n",
        "sns.heatmap(confusionTrain,annot=True)\n",
        "\n",
        "plt.subplot(1,2,2)\n",
        "plt.title('Confusion Matrix on Test Data')\n",
        "confusionTrain=createConfusionMatrix(Y_test_predicted,Y_test)\n",
        "sns.heatmap(confusionTrain,annot=True)"
      ],
      "metadata": {
        "colab": {
          "base_uri": "https://localhost:8080/",
          "height": 245
        },
        "id": "Iuha8lzqAFrH",
        "outputId": "70eaa4e4-db14-4c26-be21-353bdb89abc5"
      },
      "execution_count": 65,
      "outputs": [
        {
          "output_type": "execute_result",
          "data": {
            "text/plain": [
              "<matplotlib.axes._subplots.AxesSubplot at 0x7fe4d56b51f0>"
            ]
          },
          "metadata": {},
          "execution_count": 65
        },
        {
          "output_type": "display_data",
          "data": {
            "text/plain": [
              "<Figure size 720x216 with 4 Axes>"
            ],
            "image/png": "[encoded data removed]"
          },
          "metadata": {
            "needs_background": "light"
          }
        }
      ]
    },
    {
      "cell_type": "code",
      "source": [
        "print('Score on Train data using inbuilt method : ',np.round(lr.score(X_train,Y_train)*100,2))\n",
        "print('Score on Test data using inbuilt method : ',np.round(lr.score(X_test,Y_test)*100,2))"
      ],
      "metadata": {
        "colab": {
          "base_uri": "https://localhost:8080/"
        },
        "id": "JOfvhzysAGpp",
        "outputId": "7cd7a79b-6261-40a6-b462-f7d4af61aa68"
      },
      "execution_count": 66,
      "outputs": [
        {
          "output_type": "stream",
          "name": "stdout",
          "text": [
            "Score on Train data using inbuilt method :  98.33\n",
            "Score on Test data using inbuilt method :  93.33\n"
          ]
        }
      ]
    },
    {
      "cell_type": "code",
      "source": [
        "\n",
        "print('Symmetry Loss on train dataset : ',symmetricLossFunction(Y_train_predicted,Y_train))\n",
        "print('Symmetry Loss on test dataset : ',symmetricLossFunction(Y_test_predicted,Y_test))"
      ],
      "metadata": {
        "colab": {
          "base_uri": "https://localhost:8080/"
        },
        "id": "_eY55Y3gALCj",
        "outputId": "1dbabce9-7e02-4cda-b5dc-21f99c7f420b"
      },
      "execution_count": 67,
      "outputs": [
        {
          "output_type": "stream",
          "name": "stdout",
          "text": [
            "Symmetry Loss on train dataset :  2\n",
            "Symmetry Loss on test dataset :  2\n"
          ]
        }
      ]
    },
    {
      "cell_type": "markdown",
      "source": [
        "#### The model performs well enough on the train and test data.\n",
        "> - The model performance can be seen better from the confusion matrix.\n",
        "> - Although the model has good performance, there are a few False positives and False Negatives\n",
        "> - The test dataset has comparitively lower number of False positives and False Negatives\n",
        "> - The symmetry loss functions on train and test datasets are also calculated as we want to penalise the False Negatives and False Positives equally in this case. "
      ],
      "metadata": {
        "id": "l5hT4396-vep"
      }
    },
    {
      "cell_type": "markdown",
      "source": [
        "## 5. Implement stratified sampling, again using the 80-20 split. Decide the stratification variable and explain your choice."
      ],
      "metadata": {
        "id": "Mqnqyj06V5bs"
      }
    },
    {
      "cell_type": "markdown",
      "source": [
        "#### Here we try three things\n",
        "> Results from straified Sampling on the target column which is the output\n",
        "\n",
        "> Results from the random sampling\n",
        "\n",
        "> Results from stratified sampling on the Petal Length column which is an input"
      ],
      "metadata": {
        "id": "HLwnDfTNA1MZ"
      }
    },
    {
      "cell_type": "code",
      "source": [
        "from sklearn.model_selection import train_test_split\n",
        "\n",
        "# Creating a dataframe to store the results from each iterations\n",
        "dispropDF=pd.DataFrame()\n",
        "iteration=[]\n",
        "mainProp=[]\n",
        "testProp=[]\n",
        "trainProp=[]\n",
        "trainLoss=[]\n",
        "testLoss=[]\n",
        "trainScore=[]\n",
        "testScore=[]\n",
        "for i in range(10): # Do the iteration of sampling and training 10 times\n",
        "    iteration.append(i)\n",
        "    \n",
        "    # Create the disproportionate stratified sampling using the train, test splot methos with 20% test size\n",
        "    \n",
        "    X_train,X_test,Y_train,Y_test=train_test_split(inputData,target,stratify=target,test_size=0.2)\n",
        "\n",
        "    # Find distributions and append it to list\n",
        "    mainProp.append(len(target[target==0])/len(target[target==1]))\n",
        "    trainProp.append(len(Y_train[Y_train==0])/len(Y_train[Y_train==1]))\n",
        "    testProp.append(len(Y_test[Y_test==0])/len(Y_test[Y_test==1]))\n",
        "    \n",
        "    \n",
        "    lr=LogisticRegression()\n",
        "\n",
        "    # Applying Logistic Regression on the unbalanced Dataset\n",
        "    lr.fit(X_train,Y_train)\n",
        "    Y_train_predicted=lr.predict(X_train)\n",
        "    Y_test_predicted=lr.predict(X_test)\n",
        "\n",
        "    # Append losses of the function to list\n",
        "    trainLoss.append(symmetricLossFunction(Y_train_predicted,Y_train))\n",
        "    testLoss.append(symmetricLossFunction(Y_test_predicted,Y_test))\n",
        "    trainScore.append(lr.score(X_train,Y_train))\n",
        "    testScore.append(lr.score(X_test,Y_test))\n",
        "# Add the calculated data from iterations to the datasets\n",
        "dispropDF['Iteration']=iteration\n",
        "dispropDF['Main Data Proportion']=mainProp\n",
        "dispropDF['Test Data Proportion']=testProp\n",
        "dispropDF['Train Data Proportion']=trainProp\n",
        "dispropDF['Train Data Loss']=trainLoss\n",
        "dispropDF['Test Data Loss']=testLoss\n",
        "dispropDF['Train Score']=trainScore\n",
        "dispropDF['Test Score']=testScore\n",
        "                     \n",
        "dispropDF# Print the dataset for the disproportionate stratified sampling"
      ],
      "metadata": {
        "id": "VqkFW4BgV7x3",
        "colab": {
          "base_uri": "https://localhost:8080/",
          "height": 363
        },
        "outputId": "7da69830-1756-4019-ed6f-438c1d5cb2ee"
      },
      "execution_count": 70,
      "outputs": [
        {
          "output_type": "execute_result",
          "data": {
            "text/plain": [
              "   Iteration  Main Data Proportion  Test Data Proportion  \\\n",
              "0          0                   2.0                   2.0   \n",
              "1          1                   2.0                   2.0   \n",
              "2          2                   2.0                   2.0   \n",
              "3          3                   2.0                   2.0   \n",
              "4          4                   2.0                   2.0   \n",
              "5          5                   2.0                   2.0   \n",
              "6          6                   2.0                   2.0   \n",
              "7          7                   2.0                   2.0   \n",
              "8          8                   2.0                   2.0   \n",
              "9          9                   2.0                   2.0   \n",
              "\n",
              "   Train Data Proportion  Train Data Loss  Test Data Loss  Train Score  \\\n",
              "0                    2.0                2               3     0.983333   \n",
              "1                    2.0                4               0     0.966667   \n",
              "2                    2.0                4               0     0.966667   \n",
              "3                    2.0                2               1     0.983333   \n",
              "4                    2.0                3               1     0.975000   \n",
              "5                    2.0                2               2     0.983333   \n",
              "6                    2.0                4               1     0.966667   \n",
              "7                    2.0                4               0     0.966667   \n",
              "8                    2.0                3               0     0.975000   \n",
              "9                    2.0                4               0     0.966667   \n",
              "\n",
              "   Test Score  \n",
              "0    0.900000  \n",
              "1    1.000000  \n",
              "2    1.000000  \n",
              "3    0.966667  \n",
              "4    0.966667  \n",
              "5    0.933333  \n",
              "6    0.966667  \n",
              "7    1.000000  \n",
              "8    1.000000  \n",
              "9    1.000000  "
            ],
            "text/html": [
              "\n",
              "  <div id=\"df-7a205301-59a6-4173-a06f-7d2e4abcbbee\">\n",
              "    <div class=\"colab-df-container\">\n",
              "      <div>\n",
              "<style scoped>\n",
              "    .dataframe tbody tr th:only-of-type {\n",
              "        vertical-align: middle;\n",
              "    }\n",
              "\n",
              "    .dataframe tbody tr th {\n",
              "        vertical-align: top;\n",
              "    }\n",
              "\n",
              "    .dataframe thead th {\n",
              "        text-align: right;\n",
              "    }\n",
              "</style>\n",
              "<table border=\"1\" class=\"dataframe\">\n",
              "  <thead>\n",
              "    <tr style=\"text-align: right;\">\n",
              "      <th></th>\n",
              "      <th>Iteration</th>\n",
              "      <th>Main Data Proportion</th>\n",
              "      <th>Test Data Proportion</th>\n",
              "      <th>Train Data Proportion</th>\n",
              "      <th>Train Data Loss</th>\n",
              "      <th>Test Data Loss</th>\n",
              "      <th>Train Score</th>\n",
              "      <th>Test Score</th>\n",
              "    </tr>\n",
              "  </thead>\n",
              "  <tbody>\n",
              "    <tr>\n",
              "      <th>0</th>\n",
              "      <td>0</td>\n",
              "      <td>2.0</td>\n",
              "      <td>2.0</td>\n",
              "      <td>2.0</td>\n",
              "      <td>2</td>\n",
              "      <td>3</td>\n",
              "      <td>0.983333</td>\n",
              "      <td>0.900000</td>\n",
              "    </tr>\n",
              "    <tr>\n",
              "      <th>1</th>\n",
              "      <td>1</td>\n",
              "      <td>2.0</td>\n",
              "      <td>2.0</td>\n",
              "      <td>2.0</td>\n",
              "      <td>4</td>\n",
              "      <td>0</td>\n",
              "      <td>0.966667</td>\n",
              "      <td>1.000000</td>\n",
              "    </tr>\n",
              "    <tr>\n",
              "      <th>2</th>\n",
              "      <td>2</td>\n",
              "      <td>2.0</td>\n",
              "      <td>2.0</td>\n",
              "      <td>2.0</td>\n",
              "      <td>4</td>\n",
              "      <td>0</td>\n",
              "      <td>0.966667</td>\n",
              "      <td>1.000000</td>\n",
              "    </tr>\n",
              "    <tr>\n",
              "      <th>3</th>\n",
              "      <td>3</td>\n",
              "      <td>2.0</td>\n",
              "      <td>2.0</td>\n",
              "      <td>2.0</td>\n",
              "      <td>2</td>\n",
              "      <td>1</td>\n",
              "      <td>0.983333</td>\n",
              "      <td>0.966667</td>\n",
              "    </tr>\n",
              "    <tr>\n",
              "      <th>4</th>\n",
              "      <td>4</td>\n",
              "      <td>2.0</td>\n",
              "      <td>2.0</td>\n",
              "      <td>2.0</td>\n",
              "      <td>3</td>\n",
              "      <td>1</td>\n",
              "      <td>0.975000</td>\n",
              "      <td>0.966667</td>\n",
              "    </tr>\n",
              "    <tr>\n",
              "      <th>5</th>\n",
              "      <td>5</td>\n",
              "      <td>2.0</td>\n",
              "      <td>2.0</td>\n",
              "      <td>2.0</td>\n",
              "      <td>2</td>\n",
              "      <td>2</td>\n",
              "      <td>0.983333</td>\n",
              "      <td>0.933333</td>\n",
              "    </tr>\n",
              "    <tr>\n",
              "      <th>6</th>\n",
              "      <td>6</td>\n",
              "      <td>2.0</td>\n",
              "      <td>2.0</td>\n",
              "      <td>2.0</td>\n",
              "      <td>4</td>\n",
              "      <td>1</td>\n",
              "      <td>0.966667</td>\n",
              "      <td>0.966667</td>\n",
              "    </tr>\n",
              "    <tr>\n",
              "      <th>7</th>\n",
              "      <td>7</td>\n",
              "      <td>2.0</td>\n",
              "      <td>2.0</td>\n",
              "      <td>2.0</td>\n",
              "      <td>4</td>\n",
              "      <td>0</td>\n",
              "      <td>0.966667</td>\n",
              "      <td>1.000000</td>\n",
              "    </tr>\n",
              "    <tr>\n",
              "      <th>8</th>\n",
              "      <td>8</td>\n",
              "      <td>2.0</td>\n",
              "      <td>2.0</td>\n",
              "      <td>2.0</td>\n",
              "      <td>3</td>\n",
              "      <td>0</td>\n",
              "      <td>0.975000</td>\n",
              "      <td>1.000000</td>\n",
              "    </tr>\n",
              "    <tr>\n",
              "      <th>9</th>\n",
              "      <td>9</td>\n",
              "      <td>2.0</td>\n",
              "      <td>2.0</td>\n",
              "      <td>2.0</td>\n",
              "      <td>4</td>\n",
              "      <td>0</td>\n",
              "      <td>0.966667</td>\n",
              "      <td>1.000000</td>\n",
              "    </tr>\n",
              "  </tbody>\n",
              "</table>\n",
              "</div>\n",
              "      <button class=\"colab-df-convert\" onclick=\"convertToInteractive('df-7a205301-59a6-4173-a06f-7d2e4abcbbee')\"\n",
              "              title=\"Convert this dataframe to an interactive table.\"\n",
              "              style=\"display:none;\">\n",
              "        \n",
              "  <svg xmlns=\"http://www.w3.org/2000/svg\" height=\"24px\"viewBox=\"0 0 24 24\"\n",
              "       width=\"24px\">\n",
              "    <path d=\"M0 0h24v24H0V0z\" fill=\"none\"/>\n",
              "    <path d=\"M18.56 5.44l.94 2.06.94-2.06 2.06-.94-2.06-.94-.94-2.06-.94 2.06-2.06.94zm-11 1L8.5 8.5l.94-2.06 2.06-.94-2.06-.94L8.5 2.5l-.94 2.06-2.06.94zm10 10l.94 2.06.94-2.06 2.06-.94-2.06-.94-.94-2.06-.94 2.06-2.06.94z\"/><path d=\"M17.41 7.96l-1.37-1.37c-.4-.4-.92-.59-1.43-.59-.52 0-1.04.2-1.43.59L10.3 9.45l-7.72 7.72c-.78.78-.78 2.05 0 2.83L4 21.41c.39.39.9.59 1.41.59.51 0 1.02-.2 1.41-.59l7.78-7.78 2.81-2.81c.8-.78.8-2.07 0-2.86zM5.41 20L4 18.59l7.72-7.72 1.47 1.35L5.41 20z\"/>\n",
              "  </svg>\n",
              "      </button>\n",
              "      \n",
              "  <style>\n",
              "    .colab-df-container {\n",
              "      display:flex;\n",
              "      flex-wrap:wrap;\n",
              "      gap: 12px;\n",
              "    }\n",
              "\n",
              "    .colab-df-convert {\n",
              "      background-color: #E8F0FE;\n",
              "      border: none;\n",
              "      border-radius: 50%;\n",
              "      cursor: pointer;\n",
              "      display: none;\n",
              "      fill: #1967D2;\n",
              "      height: 32px;\n",
              "      padding: 0 0 0 0;\n",
              "      width: 32px;\n",
              "    }\n",
              "\n",
              "    .colab-df-convert:hover {\n",
              "      background-color: #E2EBFA;\n",
              "      box-shadow: 0px 1px 2px rgba(60, 64, 67, 0.3), 0px 1px 3px 1px rgba(60, 64, 67, 0.15);\n",
              "      fill: #174EA6;\n",
              "    }\n",
              "\n",
              "    [theme=dark] .colab-df-convert {\n",
              "      background-color: #3B4455;\n",
              "      fill: #D2E3FC;\n",
              "    }\n",
              "\n",
              "    [theme=dark] .colab-df-convert:hover {\n",
              "      background-color: #434B5C;\n",
              "      box-shadow: 0px 1px 3px 1px rgba(0, 0, 0, 0.15);\n",
              "      filter: drop-shadow(0px 1px 2px rgba(0, 0, 0, 0.3));\n",
              "      fill: #FFFFFF;\n",
              "    }\n",
              "  </style>\n",
              "\n",
              "      <script>\n",
              "        const buttonEl =\n",
              "          document.querySelector('#df-7a205301-59a6-4173-a06f-7d2e4abcbbee button.colab-df-convert');\n",
              "        buttonEl.style.display =\n",
              "          google.colab.kernel.accessAllowed ? 'block' : 'none';\n",
              "\n",
              "        async function convertToInteractive(key) {\n",
              "          const element = document.querySelector('#df-7a205301-59a6-4173-a06f-7d2e4abcbbee');\n",
              "          const dataTable =\n",
              "            await google.colab.kernel.invokeFunction('convertToInteractive',\n",
              "                                                     [key], {});\n",
              "          if (!dataTable) return;\n",
              "\n",
              "          const docLinkHtml = 'Like what you see? Visit the ' +\n",
              "            '<a target=\"_blank\" href=https://colab.research.google.com/notebooks/data_table.ipynb>data table notebook</a>'\n",
              "            + ' to learn more about interactive tables.';\n",
              "          element.innerHTML = '';\n",
              "          dataTable['output_type'] = 'display_data';\n",
              "          await google.colab.output.renderOutput(dataTable, element);\n",
              "          const docLink = document.createElement('div');\n",
              "          docLink.innerHTML = docLinkHtml;\n",
              "          element.appendChild(docLink);\n",
              "        }\n",
              "      </script>\n",
              "    </div>\n",
              "  </div>\n",
              "  "
            ]
          },
          "metadata": {},
          "execution_count": 70
        }
      ]
    },
    {
      "cell_type": "code",
      "source": [
        "# Plotting the confusion matrix using the sns heatmap for train and test data for the last result\n",
        "plt.figure(figsize=(10,3))\n",
        "plt.subplot(1,2,1)\n",
        "plt.title('Confusion Matrix on Train Data')\n",
        "confusionTrain=createConfusionMatrix(Y_train_predicted,Y_test)\n",
        "sns.heatmap(confusionTrain,annot=True)\n",
        "\n",
        "plt.subplot(1,2,2)\n",
        "plt.title('Confusion Matrix on Test Data')\n",
        "confusionTrain=createConfusionMatrix(Y_test_predicted,Y_test)\n",
        "sns.heatmap(confusionTrain,annot=True)"
      ],
      "metadata": {
        "colab": {
          "base_uri": "https://localhost:8080/",
          "height": 245
        },
        "id": "Abe1zzOZA7j_",
        "outputId": "fde152a3-2837-4a9f-bd26-830a4e963951"
      },
      "execution_count": 71,
      "outputs": [
        {
          "output_type": "execute_result",
          "data": {
            "text/plain": [
              "<matplotlib.axes._subplots.AxesSubplot at 0x7fe4d546bac0>"
            ]
          },
          "metadata": {},
          "execution_count": 71
        },
        {
          "output_type": "display_data",
          "data": {
            "text/plain": [
              "<Figure size 720x216 with 4 Axes>"
            ],
            "image/png": "[encoded data removed]"
          },
          "metadata": {
            "needs_background": "light"
          }
        }
      ]
    },
    {
      "cell_type": "markdown",
      "source": [
        "#### Checking the behavious for random sampling to compare the results"
      ],
      "metadata": {
        "id": "5k9CvjIpA-kD"
      }
    },
    {
      "cell_type": "code",
      "source": [
        "\n",
        "# Creating a dataframe to store the results from each iterations\n",
        "propDF=pd.DataFrame()\n",
        "iteration=[]\n",
        "mainProp=[]\n",
        "testProp=[]\n",
        "trainProp=[]\n",
        "trainLoss=[]\n",
        "testLoss=[]\n",
        "trainScore=[]\n",
        "testScore=[]\n",
        "\n",
        "for i in range(10):\n",
        "    # Creating an index to shuffle data and shuffling data using it\n",
        "    iteration.append(i)\n",
        "    \n",
        "    indexList=[i for i in range(0,inputData.shape[0])]\n",
        "    inputDistribution=(len(target[target==0])/len(target[target==1]))\n",
        "    trainDistribution=0\n",
        "    testDistribution=0\n",
        "\n",
        "    np.random.shuffle(indexList) # Shuffling the index. Used for splitting train and test data\n",
        "    splitLength=int(len(inputData)*0.8) # Finding the position to split\n",
        "    trainIndex=indexList[0:splitLength]  #Splitting the train data randomly:Creating the indices\n",
        "    testIndex=indexList[splitLength:] #Splitting the test data randomly; Creating the indices\n",
        "\n",
        "    #Splitting the data\n",
        "    X_train=inputData[trainIndex]\n",
        "    Y_train=target[trainIndex]\n",
        "    X_test=inputData[testIndex]\n",
        "    Y_test=target[testIndex]\n",
        "\n",
        "    # Find distributions and append it to list\n",
        "    mainProp.append(len(target[target==0])/len(target[target==1]))\n",
        "    trainProp.append(len(Y_train[Y_train==0])/len(Y_train[Y_train==1]))\n",
        "    testProp.append(len(Y_test[Y_test==0])/len(Y_test[Y_test==1]))\n",
        "\n",
        "\n",
        "    lr=LogisticRegression()\n",
        "\n",
        "    # Applying Logistic Regression on the unbalanced Dataset\n",
        "    lr.fit(X_train,Y_train)\n",
        "    Y_train_predicted=lr.predict(X_train)\n",
        "    Y_test_predicted=lr.predict(X_test)\n",
        "\n",
        "    # Append losses of the function to list\n",
        "    trainLoss.append(symmetricLossFunction(Y_train_predicted,Y_train))\n",
        "    testLoss.append(symmetricLossFunction(Y_test_predicted,Y_test))\n",
        "    trainScore.append(lr.score(X_train,Y_train))\n",
        "    testScore.append(lr.score(X_test,Y_test))\n",
        "    \n",
        "# Add the calculated data from iterations to the datasets\n",
        "propDF['Iteration']=iteration\n",
        "propDF['Main Data Proportion']=mainProp\n",
        "propDF['Test Data Proportion']=testProp\n",
        "propDF['Train Data Proportion']=trainProp\n",
        "propDF['Train Data Loss']=trainLoss\n",
        "propDF['Test Data Loss']=testLoss\n",
        "propDF['Train Score']=trainScore\n",
        "propDF['Test Score']=testScore\n",
        "                     \n",
        "propDF"
      ],
      "metadata": {
        "colab": {
          "base_uri": "https://localhost:8080/",
          "height": 363
        },
        "id": "8AWzZwr4BAG-",
        "outputId": "129ed73c-0dbd-4b77-d5ed-8123b0ddb5f6"
      },
      "execution_count": 72,
      "outputs": [
        {
          "output_type": "execute_result",
          "data": {
            "text/plain": [
              "   Iteration  Main Data Proportion  Test Data Proportion  \\\n",
              "0          0                   2.0              0.875000   \n",
              "1          1                   2.0              1.500000   \n",
              "2          2                   2.0              1.307692   \n",
              "3          3                   2.0              2.333333   \n",
              "4          4                   2.0              2.750000   \n",
              "5          5                   2.0              1.727273   \n",
              "6          6                   2.0              2.000000   \n",
              "7          7                   2.0              1.500000   \n",
              "8          8                   2.0              2.000000   \n",
              "9          9                   2.0              2.750000   \n",
              "\n",
              "   Train Data Proportion  Train Data Loss  Test Data Loss  Train Score  \\\n",
              "0               2.529412                5               0     0.958333   \n",
              "1               2.157895                3               1     0.975000   \n",
              "2               2.243243                3               2     0.975000   \n",
              "3               1.926829                3               1     0.975000   \n",
              "4               1.857143                3               0     0.975000   \n",
              "5               2.076923                3               1     0.975000   \n",
              "6               2.000000                3               1     0.975000   \n",
              "7               2.157895                3               0     0.975000   \n",
              "8               2.000000                4               0     0.966667   \n",
              "9               1.857143                3               0     0.975000   \n",
              "\n",
              "   Test Score  \n",
              "0    1.000000  \n",
              "1    0.966667  \n",
              "2    0.933333  \n",
              "3    0.966667  \n",
              "4    1.000000  \n",
              "5    0.966667  \n",
              "6    0.966667  \n",
              "7    1.000000  \n",
              "8    1.000000  \n",
              "9    1.000000  "
            ],
            "text/html": [
              "\n",
              "  <div id=\"df-8606d9f3-9831-4e78-a665-b97f8b56e12f\">\n",
              "    <div class=\"colab-df-container\">\n",
              "      <div>\n",
              "<style scoped>\n",
              "    .dataframe tbody tr th:only-of-type {\n",
              "        vertical-align: middle;\n",
              "    }\n",
              "\n",
              "    .dataframe tbody tr th {\n",
              "        vertical-align: top;\n",
              "    }\n",
              "\n",
              "    .dataframe thead th {\n",
              "        text-align: right;\n",
              "    }\n",
              "</style>\n",
              "<table border=\"1\" class=\"dataframe\">\n",
              "  <thead>\n",
              "    <tr style=\"text-align: right;\">\n",
              "      <th></th>\n",
              "      <th>Iteration</th>\n",
              "      <th>Main Data Proportion</th>\n",
              "      <th>Test Data Proportion</th>\n",
              "      <th>Train Data Proportion</th>\n",
              "      <th>Train Data Loss</th>\n",
              "      <th>Test Data Loss</th>\n",
              "      <th>Train Score</th>\n",
              "      <th>Test Score</th>\n",
              "    </tr>\n",
              "  </thead>\n",
              "  <tbody>\n",
              "    <tr>\n",
              "      <th>0</th>\n",
              "      <td>0</td>\n",
              "      <td>2.0</td>\n",
              "      <td>0.875000</td>\n",
              "      <td>2.529412</td>\n",
              "      <td>5</td>\n",
              "      <td>0</td>\n",
              "      <td>0.958333</td>\n",
              "      <td>1.000000</td>\n",
              "    </tr>\n",
              "    <tr>\n",
              "      <th>1</th>\n",
              "      <td>1</td>\n",
              "      <td>2.0</td>\n",
              "      <td>1.500000</td>\n",
              "      <td>2.157895</td>\n",
              "      <td>3</td>\n",
              "      <td>1</td>\n",
              "      <td>0.975000</td>\n",
              "      <td>0.966667</td>\n",
              "    </tr>\n",
              "    <tr>\n",
              "      <th>2</th>\n",
              "      <td>2</td>\n",
              "      <td>2.0</td>\n",
              "      <td>1.307692</td>\n",
              "      <td>2.243243</td>\n",
              "      <td>3</td>\n",
              "      <td>2</td>\n",
              "      <td>0.975000</td>\n",
              "      <td>0.933333</td>\n",
              "    </tr>\n",
              "    <tr>\n",
              "      <th>3</th>\n",
              "      <td>3</td>\n",
              "      <td>2.0</td>\n",
              "      <td>2.333333</td>\n",
              "      <td>1.926829</td>\n",
              "      <td>3</td>\n",
              "      <td>1</td>\n",
              "      <td>0.975000</td>\n",
              "      <td>0.966667</td>\n",
              "    </tr>\n",
              "    <tr>\n",
              "      <th>4</th>\n",
              "      <td>4</td>\n",
              "      <td>2.0</td>\n",
              "      <td>2.750000</td>\n",
              "      <td>1.857143</td>\n",
              "      <td>3</td>\n",
              "      <td>0</td>\n",
              "      <td>0.975000</td>\n",
              "      <td>1.000000</td>\n",
              "    </tr>\n",
              "    <tr>\n",
              "      <th>5</th>\n",
              "      <td>5</td>\n",
              "      <td>2.0</td>\n",
              "      <td>1.727273</td>\n",
              "      <td>2.076923</td>\n",
              "      <td>3</td>\n",
              "      <td>1</td>\n",
              "      <td>0.975000</td>\n",
              "      <td>0.966667</td>\n",
              "    </tr>\n",
              "    <tr>\n",
              "      <th>6</th>\n",
              "      <td>6</td>\n",
              "      <td>2.0</td>\n",
              "      <td>2.000000</td>\n",
              "      <td>2.000000</td>\n",
              "      <td>3</td>\n",
              "      <td>1</td>\n",
              "      <td>0.975000</td>\n",
              "      <td>0.966667</td>\n",
              "    </tr>\n",
              "    <tr>\n",
              "      <th>7</th>\n",
              "      <td>7</td>\n",
              "      <td>2.0</td>\n",
              "      <td>1.500000</td>\n",
              "      <td>2.157895</td>\n",
              "      <td>3</td>\n",
              "      <td>0</td>\n",
              "      <td>0.975000</td>\n",
              "      <td>1.000000</td>\n",
              "    </tr>\n",
              "    <tr>\n",
              "      <th>8</th>\n",
              "      <td>8</td>\n",
              "      <td>2.0</td>\n",
              "      <td>2.000000</td>\n",
              "      <td>2.000000</td>\n",
              "      <td>4</td>\n",
              "      <td>0</td>\n",
              "      <td>0.966667</td>\n",
              "      <td>1.000000</td>\n",
              "    </tr>\n",
              "    <tr>\n",
              "      <th>9</th>\n",
              "      <td>9</td>\n",
              "      <td>2.0</td>\n",
              "      <td>2.750000</td>\n",
              "      <td>1.857143</td>\n",
              "      <td>3</td>\n",
              "      <td>0</td>\n",
              "      <td>0.975000</td>\n",
              "      <td>1.000000</td>\n",
              "    </tr>\n",
              "  </tbody>\n",
              "</table>\n",
              "</div>\n",
              "      <button class=\"colab-df-convert\" onclick=\"convertToInteractive('df-8606d9f3-9831-4e78-a665-b97f8b56e12f')\"\n",
              "              title=\"Convert this dataframe to an interactive table.\"\n",
              "              style=\"display:none;\">\n",
              "        \n",
              "  <svg xmlns=\"http://www.w3.org/2000/svg\" height=\"24px\"viewBox=\"0 0 24 24\"\n",
              "       width=\"24px\">\n",
              "    <path d=\"M0 0h24v24H0V0z\" fill=\"none\"/>\n",
              "    <path d=\"M18.56 5.44l.94 2.06.94-2.06 2.06-.94-2.06-.94-.94-2.06-.94 2.06-2.06.94zm-11 1L8.5 8.5l.94-2.06 2.06-.94-2.06-.94L8.5 2.5l-.94 2.06-2.06.94zm10 10l.94 2.06.94-2.06 2.06-.94-2.06-.94-.94-2.06-.94 2.06-2.06.94z\"/><path d=\"M17.41 7.96l-1.37-1.37c-.4-.4-.92-.59-1.43-.59-.52 0-1.04.2-1.43.59L10.3 9.45l-7.72 7.72c-.78.78-.78 2.05 0 2.83L4 21.41c.39.39.9.59 1.41.59.51 0 1.02-.2 1.41-.59l7.78-7.78 2.81-2.81c.8-.78.8-2.07 0-2.86zM5.41 20L4 18.59l7.72-7.72 1.47 1.35L5.41 20z\"/>\n",
              "  </svg>\n",
              "      </button>\n",
              "      \n",
              "  <style>\n",
              "    .colab-df-container {\n",
              "      display:flex;\n",
              "      flex-wrap:wrap;\n",
              "      gap: 12px;\n",
              "    }\n",
              "\n",
              "    .colab-df-convert {\n",
              "      background-color: #E8F0FE;\n",
              "      border: none;\n",
              "      border-radius: 50%;\n",
              "      cursor: pointer;\n",
              "      display: none;\n",
              "      fill: #1967D2;\n",
              "      height: 32px;\n",
              "      padding: 0 0 0 0;\n",
              "      width: 32px;\n",
              "    }\n",
              "\n",
              "    .colab-df-convert:hover {\n",
              "      background-color: #E2EBFA;\n",
              "      box-shadow: 0px 1px 2px rgba(60, 64, 67, 0.3), 0px 1px 3px 1px rgba(60, 64, 67, 0.15);\n",
              "      fill: #174EA6;\n",
              "    }\n",
              "\n",
              "    [theme=dark] .colab-df-convert {\n",
              "      background-color: #3B4455;\n",
              "      fill: #D2E3FC;\n",
              "    }\n",
              "\n",
              "    [theme=dark] .colab-df-convert:hover {\n",
              "      background-color: #434B5C;\n",
              "      box-shadow: 0px 1px 3px 1px rgba(0, 0, 0, 0.15);\n",
              "      filter: drop-shadow(0px 1px 2px rgba(0, 0, 0, 0.3));\n",
              "      fill: #FFFFFF;\n",
              "    }\n",
              "  </style>\n",
              "\n",
              "      <script>\n",
              "        const buttonEl =\n",
              "          document.querySelector('#df-8606d9f3-9831-4e78-a665-b97f8b56e12f button.colab-df-convert');\n",
              "        buttonEl.style.display =\n",
              "          google.colab.kernel.accessAllowed ? 'block' : 'none';\n",
              "\n",
              "        async function convertToInteractive(key) {\n",
              "          const element = document.querySelector('#df-8606d9f3-9831-4e78-a665-b97f8b56e12f');\n",
              "          const dataTable =\n",
              "            await google.colab.kernel.invokeFunction('convertToInteractive',\n",
              "                                                     [key], {});\n",
              "          if (!dataTable) return;\n",
              "\n",
              "          const docLinkHtml = 'Like what you see? Visit the ' +\n",
              "            '<a target=\"_blank\" href=https://colab.research.google.com/notebooks/data_table.ipynb>data table notebook</a>'\n",
              "            + ' to learn more about interactive tables.';\n",
              "          element.innerHTML = '';\n",
              "          dataTable['output_type'] = 'display_data';\n",
              "          await google.colab.output.renderOutput(dataTable, element);\n",
              "          const docLink = document.createElement('div');\n",
              "          docLink.innerHTML = docLinkHtml;\n",
              "          element.appendChild(docLink);\n",
              "        }\n",
              "      </script>\n",
              "    </div>\n",
              "  </div>\n",
              "  "
            ]
          },
          "metadata": {},
          "execution_count": 72
        }
      ]
    },
    {
      "cell_type": "code",
      "source": [
        "# Plotting the confusion matrix using the sns heatmap for train and test data for the last result\n",
        "plt.figure(figsize=(10,3))\n",
        "plt.subplot(1,2,1)\n",
        "plt.title('Confusion Matrix on Train Data')\n",
        "confusionTrain=createConfusionMatrix(Y_train_predicted,Y_test)\n",
        "sns.heatmap(confusionTrain,annot=True)\n",
        "\n",
        "plt.subplot(1,2,2)\n",
        "plt.title('Confusion Matrix on Test Data')\n",
        "confusionTrain=createConfusionMatrix(Y_test_predicted,Y_test)\n",
        "sns.heatmap(confusionTrain,annot=True)"
      ],
      "metadata": {
        "colab": {
          "base_uri": "https://localhost:8080/",
          "height": 245
        },
        "id": "teeqFG0OBAEg",
        "outputId": "51a71689-91b2-4aee-a4dc-d4d097348d4d"
      },
      "execution_count": 73,
      "outputs": [
        {
          "output_type": "execute_result",
          "data": {
            "text/plain": [
              "<matplotlib.axes._subplots.AxesSubplot at 0x7fe4d535e220>"
            ]
          },
          "metadata": {},
          "execution_count": 73
        },
        {
          "output_type": "display_data",
          "data": {
            "text/plain": [
              "<Figure size 720x216 with 4 Axes>"
            ],
            "image/png": "[encoded data removed]"
          },
          "metadata": {
            "needs_background": "light"
          }
        }
      ]
    },
    {
      "cell_type": "markdown",
      "source": [
        "#### It can be seen that the variance of loss is almost the same in both the cases. It can be because the size of the dataset is less. \n",
        "\n",
        "#### But it can be clearly seen that the proportion of data is maintained while using stratified sampling, which makes the train and test dataset a closer approximation of the population data"
      ],
      "metadata": {
        "id": "Tw2XFcUcBHzp"
      }
    },
    {
      "cell_type": "markdown",
      "source": [
        "### Using Stratified sampling based on a continous column"
      ],
      "metadata": {
        "id": "WsVw6jnUBJ2l"
      }
    },
    {
      "cell_type": "code",
      "source": [
        "bins=np.linspace(min(petalWidth)-1,max(petalWidth)+1,5)\n",
        "binned=np.digitize(petalWidth,bins)\n",
        "from sklearn.model_selection import train_test_split\n",
        "\n",
        "# Creating a dataframe to store the results from each iterations\n",
        "dispropDF=pd.DataFrame()\n",
        "iteration=[]\n",
        "mainProp=[]\n",
        "testProp=[]\n",
        "trainProp=[]\n",
        "trainLoss=[]\n",
        "testLoss=[]\n",
        "trainScore=[]\n",
        "testScore=[]\n",
        "\n",
        "for i in range(10): # Do the iteration of sampling and training 10 times\n",
        "    iteration.append(i)\n",
        "    \n",
        "    # Create the disproportionate stratified sampling using the train, test splot methos with 20% test size\n",
        "    \n",
        "    X_train,X_test,Y_train,Y_test=train_test_split(inputData,target,stratify=binned,test_size=0.2)\n",
        "\n",
        "    # Find distributions and append it to list\n",
        "    mainProp.append(len(target[target==0])/len(target[target==1]))\n",
        "    trainProp.append(len(Y_train[Y_train==0])/len(Y_train[Y_train==1]))\n",
        "    testProp.append(len(Y_test[Y_test==0])/len(Y_test[Y_test==1]))\n",
        "    \n",
        "    \n",
        "    lr=LogisticRegression()\n",
        "\n",
        "    # Applying Logistic Regression on the unbalanced Dataset\n",
        "    lr.fit(X_train,Y_train)\n",
        "    Y_train_predicted=lr.predict(X_train)\n",
        "    Y_test_predicted=lr.predict(X_test)\n",
        "\n",
        "    # Append losses of the function to list\n",
        "    trainLoss.append(symmetricLossFunction(Y_train_predicted,Y_train))\n",
        "    testLoss.append(symmetricLossFunction(Y_test_predicted,Y_test))\n",
        "    trainScore.append(lr.score(X_train,Y_train))\n",
        "    testScore.append(lr.score(X_test,Y_test))\n",
        "    \n",
        "# Add the calculated data from iterations to the datasets\n",
        "dispropDF['Iteration']=iteration\n",
        "dispropDF['Main Data Proportion']=mainProp\n",
        "dispropDF['Test Data Proportion']=testProp\n",
        "dispropDF['Train Data Proportion']=trainProp\n",
        "dispropDF['Train Data Loss']=trainLoss\n",
        "dispropDF['Test Data Loss']=testLoss\n",
        "dispropDF['Train Score']=trainScore\n",
        "dispropDF['Test Score']=testScore\n",
        "                     \n",
        "dispropDF"
      ],
      "metadata": {
        "colab": {
          "base_uri": "https://localhost:8080/",
          "height": 363
        },
        "id": "iZoP-XSGBABs",
        "outputId": "1b553789-5903-4277-d20d-b8cad1116e59"
      },
      "execution_count": 74,
      "outputs": [
        {
          "output_type": "execute_result",
          "data": {
            "text/plain": [
              "   Iteration  Main Data Proportion  Test Data Proportion  \\\n",
              "0          0                   2.0              2.750000   \n",
              "1          1                   2.0              1.142857   \n",
              "2          2                   2.0              2.750000   \n",
              "3          3                   2.0              1.727273   \n",
              "4          4                   2.0              2.000000   \n",
              "5          5                   2.0              2.000000   \n",
              "6          6                   2.0              2.000000   \n",
              "7          7                   2.0              2.333333   \n",
              "8          8                   2.0              4.000000   \n",
              "9          9                   2.0              1.500000   \n",
              "\n",
              "   Train Data Proportion  Train Data Loss  Test Data Loss  Train Score  \\\n",
              "0               1.857143                3               1     0.975000   \n",
              "1               2.333333                4               1     0.966667   \n",
              "2               1.857143                4               0     0.966667   \n",
              "3               2.076923                2               1     0.983333   \n",
              "4               2.000000                2               2     0.983333   \n",
              "5               2.000000                3               1     0.975000   \n",
              "6               2.000000                4               0     0.966667   \n",
              "7               1.926829                3               1     0.975000   \n",
              "8               1.727273                4               1     0.966667   \n",
              "9               2.157895                4               0     0.966667   \n",
              "\n",
              "   Test Score  \n",
              "0    0.966667  \n",
              "1    0.966667  \n",
              "2    1.000000  \n",
              "3    0.966667  \n",
              "4    0.933333  \n",
              "5    0.966667  \n",
              "6    1.000000  \n",
              "7    0.966667  \n",
              "8    0.966667  \n",
              "9    1.000000  "
            ],
            "text/html": [
              "\n",
              "  <div id=\"df-7336d824-3efb-4aa2-a9e7-f8de96f93e4d\">\n",
              "    <div class=\"colab-df-container\">\n",
              "      <div>\n",
              "<style scoped>\n",
              "    .dataframe tbody tr th:only-of-type {\n",
              "        vertical-align: middle;\n",
              "    }\n",
              "\n",
              "    .dataframe tbody tr th {\n",
              "        vertical-align: top;\n",
              "    }\n",
              "\n",
              "    .dataframe thead th {\n",
              "        text-align: right;\n",
              "    }\n",
              "</style>\n",
              "<table border=\"1\" class=\"dataframe\">\n",
              "  <thead>\n",
              "    <tr style=\"text-align: right;\">\n",
              "      <th></th>\n",
              "      <th>Iteration</th>\n",
              "      <th>Main Data Proportion</th>\n",
              "      <th>Test Data Proportion</th>\n",
              "      <th>Train Data Proportion</th>\n",
              "      <th>Train Data Loss</th>\n",
              "      <th>Test Data Loss</th>\n",
              "      <th>Train Score</th>\n",
              "      <th>Test Score</th>\n",
              "    </tr>\n",
              "  </thead>\n",
              "  <tbody>\n",
              "    <tr>\n",
              "      <th>0</th>\n",
              "      <td>0</td>\n",
              "      <td>2.0</td>\n",
              "      <td>2.750000</td>\n",
              "      <td>1.857143</td>\n",
              "      <td>3</td>\n",
              "      <td>1</td>\n",
              "      <td>0.975000</td>\n",
              "      <td>0.966667</td>\n",
              "    </tr>\n",
              "    <tr>\n",
              "      <th>1</th>\n",
              "      <td>1</td>\n",
              "      <td>2.0</td>\n",
              "      <td>1.142857</td>\n",
              "      <td>2.333333</td>\n",
              "      <td>4</td>\n",
              "      <td>1</td>\n",
              "      <td>0.966667</td>\n",
              "      <td>0.966667</td>\n",
              "    </tr>\n",
              "    <tr>\n",
              "      <th>2</th>\n",
              "      <td>2</td>\n",
              "      <td>2.0</td>\n",
              "      <td>2.750000</td>\n",
              "      <td>1.857143</td>\n",
              "      <td>4</td>\n",
              "      <td>0</td>\n",
              "      <td>0.966667</td>\n",
              "      <td>1.000000</td>\n",
              "    </tr>\n",
              "    <tr>\n",
              "      <th>3</th>\n",
              "      <td>3</td>\n",
              "      <td>2.0</td>\n",
              "      <td>1.727273</td>\n",
              "      <td>2.076923</td>\n",
              "      <td>2</td>\n",
              "      <td>1</td>\n",
              "      <td>0.983333</td>\n",
              "      <td>0.966667</td>\n",
              "    </tr>\n",
              "    <tr>\n",
              "      <th>4</th>\n",
              "      <td>4</td>\n",
              "      <td>2.0</td>\n",
              "      <td>2.000000</td>\n",
              "      <td>2.000000</td>\n",
              "      <td>2</td>\n",
              "      <td>2</td>\n",
              "      <td>0.983333</td>\n",
              "      <td>0.933333</td>\n",
              "    </tr>\n",
              "    <tr>\n",
              "      <th>5</th>\n",
              "      <td>5</td>\n",
              "      <td>2.0</td>\n",
              "      <td>2.000000</td>\n",
              "      <td>2.000000</td>\n",
              "      <td>3</td>\n",
              "      <td>1</td>\n",
              "      <td>0.975000</td>\n",
              "      <td>0.966667</td>\n",
              "    </tr>\n",
              "    <tr>\n",
              "      <th>6</th>\n",
              "      <td>6</td>\n",
              "      <td>2.0</td>\n",
              "      <td>2.000000</td>\n",
              "      <td>2.000000</td>\n",
              "      <td>4</td>\n",
              "      <td>0</td>\n",
              "      <td>0.966667</td>\n",
              "      <td>1.000000</td>\n",
              "    </tr>\n",
              "    <tr>\n",
              "      <th>7</th>\n",
              "      <td>7</td>\n",
              "      <td>2.0</td>\n",
              "      <td>2.333333</td>\n",
              "      <td>1.926829</td>\n",
              "      <td>3</td>\n",
              "      <td>1</td>\n",
              "      <td>0.975000</td>\n",
              "      <td>0.966667</td>\n",
              "    </tr>\n",
              "    <tr>\n",
              "      <th>8</th>\n",
              "      <td>8</td>\n",
              "      <td>2.0</td>\n",
              "      <td>4.000000</td>\n",
              "      <td>1.727273</td>\n",
              "      <td>4</td>\n",
              "      <td>1</td>\n",
              "      <td>0.966667</td>\n",
              "      <td>0.966667</td>\n",
              "    </tr>\n",
              "    <tr>\n",
              "      <th>9</th>\n",
              "      <td>9</td>\n",
              "      <td>2.0</td>\n",
              "      <td>1.500000</td>\n",
              "      <td>2.157895</td>\n",
              "      <td>4</td>\n",
              "      <td>0</td>\n",
              "      <td>0.966667</td>\n",
              "      <td>1.000000</td>\n",
              "    </tr>\n",
              "  </tbody>\n",
              "</table>\n",
              "</div>\n",
              "      <button class=\"colab-df-convert\" onclick=\"convertToInteractive('df-7336d824-3efb-4aa2-a9e7-f8de96f93e4d')\"\n",
              "              title=\"Convert this dataframe to an interactive table.\"\n",
              "              style=\"display:none;\">\n",
              "        \n",
              "  <svg xmlns=\"http://www.w3.org/2000/svg\" height=\"24px\"viewBox=\"0 0 24 24\"\n",
              "       width=\"24px\">\n",
              "    <path d=\"M0 0h24v24H0V0z\" fill=\"none\"/>\n",
              "    <path d=\"M18.56 5.44l.94 2.06.94-2.06 2.06-.94-2.06-.94-.94-2.06-.94 2.06-2.06.94zm-11 1L8.5 8.5l.94-2.06 2.06-.94-2.06-.94L8.5 2.5l-.94 2.06-2.06.94zm10 10l.94 2.06.94-2.06 2.06-.94-2.06-.94-.94-2.06-.94 2.06-2.06.94z\"/><path d=\"M17.41 7.96l-1.37-1.37c-.4-.4-.92-.59-1.43-.59-.52 0-1.04.2-1.43.59L10.3 9.45l-7.72 7.72c-.78.78-.78 2.05 0 2.83L4 21.41c.39.39.9.59 1.41.59.51 0 1.02-.2 1.41-.59l7.78-7.78 2.81-2.81c.8-.78.8-2.07 0-2.86zM5.41 20L4 18.59l7.72-7.72 1.47 1.35L5.41 20z\"/>\n",
              "  </svg>\n",
              "      </button>\n",
              "      \n",
              "  <style>\n",
              "    .colab-df-container {\n",
              "      display:flex;\n",
              "      flex-wrap:wrap;\n",
              "      gap: 12px;\n",
              "    }\n",
              "\n",
              "    .colab-df-convert {\n",
              "      background-color: #E8F0FE;\n",
              "      border: none;\n",
              "      border-radius: 50%;\n",
              "      cursor: pointer;\n",
              "      display: none;\n",
              "      fill: #1967D2;\n",
              "      height: 32px;\n",
              "      padding: 0 0 0 0;\n",
              "      width: 32px;\n",
              "    }\n",
              "\n",
              "    .colab-df-convert:hover {\n",
              "      background-color: #E2EBFA;\n",
              "      box-shadow: 0px 1px 2px rgba(60, 64, 67, 0.3), 0px 1px 3px 1px rgba(60, 64, 67, 0.15);\n",
              "      fill: #174EA6;\n",
              "    }\n",
              "\n",
              "    [theme=dark] .colab-df-convert {\n",
              "      background-color: #3B4455;\n",
              "      fill: #D2E3FC;\n",
              "    }\n",
              "\n",
              "    [theme=dark] .colab-df-convert:hover {\n",
              "      background-color: #434B5C;\n",
              "      box-shadow: 0px 1px 3px 1px rgba(0, 0, 0, 0.15);\n",
              "      filter: drop-shadow(0px 1px 2px rgba(0, 0, 0, 0.3));\n",
              "      fill: #FFFFFF;\n",
              "    }\n",
              "  </style>\n",
              "\n",
              "      <script>\n",
              "        const buttonEl =\n",
              "          document.querySelector('#df-7336d824-3efb-4aa2-a9e7-f8de96f93e4d button.colab-df-convert');\n",
              "        buttonEl.style.display =\n",
              "          google.colab.kernel.accessAllowed ? 'block' : 'none';\n",
              "\n",
              "        async function convertToInteractive(key) {\n",
              "          const element = document.querySelector('#df-7336d824-3efb-4aa2-a9e7-f8de96f93e4d');\n",
              "          const dataTable =\n",
              "            await google.colab.kernel.invokeFunction('convertToInteractive',\n",
              "                                                     [key], {});\n",
              "          if (!dataTable) return;\n",
              "\n",
              "          const docLinkHtml = 'Like what you see? Visit the ' +\n",
              "            '<a target=\"_blank\" href=https://colab.research.google.com/notebooks/data_table.ipynb>data table notebook</a>'\n",
              "            + ' to learn more about interactive tables.';\n",
              "          element.innerHTML = '';\n",
              "          dataTable['output_type'] = 'display_data';\n",
              "          await google.colab.output.renderOutput(dataTable, element);\n",
              "          const docLink = document.createElement('div');\n",
              "          docLink.innerHTML = docLinkHtml;\n",
              "          element.appendChild(docLink);\n",
              "        }\n",
              "      </script>\n",
              "    </div>\n",
              "  </div>\n",
              "  "
            ]
          },
          "metadata": {},
          "execution_count": 74
        }
      ]
    },
    {
      "cell_type": "code",
      "source": [
        "# Plotting the confusion matrix using the sns heatmap for train and test data for the last result\n",
        "plt.figure(figsize=(10,3))\n",
        "plt.subplot(1,2,1)\n",
        "plt.title('Confusion Matrix on Train Data')\n",
        "confusionTrain=createConfusionMatrix(Y_train_predicted,Y_test)\n",
        "sns.heatmap(confusionTrain,annot=True)\n",
        "\n",
        "plt.subplot(1,2,2)\n",
        "plt.title('Confusion Matrix on Test Data')\n",
        "confusionTrain=createConfusionMatrix(Y_test_predicted,Y_test)\n",
        "sns.heatmap(confusionTrain,annot=True)"
      ],
      "metadata": {
        "colab": {
          "base_uri": "https://localhost:8080/",
          "height": 245
        },
        "id": "NQ894z9BBNUX",
        "outputId": "8e67cf80-f656-4258-8e85-32050c1c0ab4"
      },
      "execution_count": 75,
      "outputs": [
        {
          "output_type": "execute_result",
          "data": {
            "text/plain": [
              "<matplotlib.axes._subplots.AxesSubplot at 0x7fe4d55c2370>"
            ]
          },
          "metadata": {},
          "execution_count": 75
        },
        {
          "output_type": "display_data",
          "data": {
            "text/plain": [
              "<Figure size 720x216 with 4 Axes>"
            ],
            "image/png": "[encoded data removed]"
          },
          "metadata": {
            "needs_background": "light"
          }
        }
      ]
    },
    {
      "cell_type": "markdown",
      "source": [
        "## 6. Re-assess the performance. Comment on any changes from the random sampling case. If there is no significant change, comment on why or why not?"
      ],
      "metadata": {
        "id": "2NDZQWq0V8Ne"
      }
    },
    {
      "cell_type": "markdown",
      "source": [
        "#### In the last Stratified sampling, where the Stratification variable was selected as Petal Length, it can be seen that the pair of train and test scores are repeating a lot. The same pair is seen more than one times, and there seems to be a better estimation in estimation of the score.\n",
        "\n",
        "#### In the first method, the proportion of the samples in train and test dataset was same as that in the original dataset, but the pairs of train and test scores seems to be random in most of the cases. \n",
        "\n",
        "\n",
        "#### The same case is observed for random sampling as well\n",
        "\n",
        "#### It would be a better idea to do stratified sampling on any of the input variables as they seem to be leading to more stable scores of the machines performance. "
      ],
      "metadata": {
        "id": "PtD0pVafBStC"
      }
    }
  ]
}